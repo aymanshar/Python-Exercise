{
 "cells": [
  {
   "cell_type": "markdown",
   "metadata": {},
   "source": [
    "### Python random Data generation Exercise\n",
    "\n",
    "https://pynative.com/python-random-number-generation-exercise-questions-and-challenge/\n",
    "\n",
    "This Python exercise will help you to practice random data generation techniques. This exercise question focuses on generating random numbers, choices, and samples using the random module and secrets module.\n",
    "\n",
    "https://pynative.com/python/random/\n",
    "\n",
    "https://pynative.com/python-secrets-module/"
   ]
  },
  {
   "cell_type": "markdown",
   "metadata": {},
   "source": [
    "### Exercise 1: \n",
    "Generate 3 random integers between 100 and 999 which is divisible by 5\n",
    "\n",
    "https://pynative.com/python-random-randrange/"
   ]
  },
  {
   "cell_type": "code",
   "execution_count": null,
   "metadata": {},
   "outputs": [],
   "source": []
  },
  {
   "cell_type": "markdown",
   "metadata": {},
   "source": [
    "### Exercise 2: \n",
    "\n",
    "Random Lottery Pick. Generate 100 random lottery tickets and pick two lucky tickets from it as a winner.\n",
    "\n",
    "Note you must adhere to the following conditions:\n",
    "\n",
    "- The lottery number must be 10 digits long.\n",
    "- All 100 ticket number must be unique.\n",
    "\n",
    "Hint: Generate a random list of 1000 numbers using randrange() and then use the sample() method to pick lucky 2 tickets."
   ]
  },
  {
   "cell_type": "code",
   "execution_count": null,
   "metadata": {},
   "outputs": [],
   "source": []
  },
  {
   "cell_type": "markdown",
   "metadata": {},
   "source": [
    "### Exercise 3: \n",
    "Generate 6 digit random secure OTP\n",
    "\n",
    "https://pynative.com/python-secrets-module/#Class_secretsSystemRandom\n",
    "\n",
    "https://pynative.com/python-random-randrange/"
   ]
  },
  {
   "cell_type": "code",
   "execution_count": null,
   "metadata": {},
   "outputs": [],
   "source": []
  },
  {
   "cell_type": "markdown",
   "metadata": {},
   "source": [
    "### Exercise 4: \n",
    "Pick a random character from a given String\n",
    "\n",
    "Reference article for help: random.choice()\n",
    "\n",
    "https://pynative.com/python-random-choice/\n"
   ]
  },
  {
   "cell_type": "code",
   "execution_count": null,
   "metadata": {},
   "outputs": [],
   "source": []
  },
  {
   "cell_type": "markdown",
   "metadata": {},
   "source": [
    "### Exercise 5: \n",
    "Generate  random String of length 5\n",
    "\n",
    "Note: String must be the combination of the UPPER case and lower case letters only. No numbers and a special symbol.\n",
    "\n",
    "Reference article for help: Generate random String in Python.\n",
    "\n",
    "https://pynative.com/python-generate-random-string/"
   ]
  },
  {
   "cell_type": "code",
   "execution_count": null,
   "metadata": {},
   "outputs": [],
   "source": []
  },
  {
   "cell_type": "markdown",
   "metadata": {},
   "source": [
    "### Exercise 6: \n",
    "Generate a random Password which meets the following conditions\n",
    "\n",
    "- Password length must be 10 characters long.\n",
    "- It must contain at least 2 upper case letters, 1 digit, and 1 special symbol\n",
    "\n",
    "https://pynative.com/python-generate-random-string/#Generate_a_random_password_string_with_Special_characters_letters_and_digits"
   ]
  },
  {
   "cell_type": "code",
   "execution_count": null,
   "metadata": {},
   "outputs": [],
   "source": []
  },
  {
   "cell_type": "markdown",
   "metadata": {},
   "source": [
    "### Exercise 7: \n",
    "Calculate multiplication of two random float numbers\n",
    "\n",
    "Note:\n",
    "\n",
    "- First random float number must be between 0.1 and 1\n",
    "- Second random float number must be between 9.5 and 99.5\n",
    "\n",
    "https://pynative.com/python-get-random-float-numbers/"
   ]
  },
  {
   "cell_type": "code",
   "execution_count": null,
   "metadata": {},
   "outputs": [],
   "source": []
  },
  {
   "cell_type": "markdown",
   "metadata": {},
   "source": [
    "### Exercise 8: \n",
    "Generate random secure token of 64 bytes and random URL\n",
    "\n",
    "https://pynative.com/python-secrets-module/"
   ]
  },
  {
   "cell_type": "code",
   "execution_count": null,
   "metadata": {},
   "outputs": [],
   "source": []
  },
  {
   "cell_type": "markdown",
   "metadata": {},
   "source": [
    "### Exercise 9: \n",
    "Roll dice in such a way that every time you get the same number\n",
    "\n",
    "Dice has 6 numbers (from 1 to 6). Roll dice in such a way that every time you must get the same output number. do this 5 times.\n",
    "\n",
    "https://pynative.com/python-random-seed/\n",
    "\n",
    "https://pynative.com/python-random-choice/"
   ]
  },
  {
   "cell_type": "code",
   "execution_count": null,
   "metadata": {},
   "outputs": [],
   "source": []
  },
  {
   "cell_type": "markdown",
   "metadata": {},
   "source": [
    "### Exercise 10: \n",
    "Generate a random date between given start and end dates"
   ]
  },
  {
   "cell_type": "code",
   "execution_count": null,
   "metadata": {},
   "outputs": [],
   "source": []
  }
 ],
 "metadata": {
  "kernelspec": {
   "display_name": "Python 3",
   "language": "python",
   "name": "python3"
  },
  "language_info": {
   "codemirror_mode": {
    "name": "ipython",
    "version": 3
   },
   "file_extension": ".py",
   "mimetype": "text/x-python",
   "name": "python",
   "nbconvert_exporter": "python",
   "pygments_lexer": "ipython3",
   "version": "3.7.3"
  }
 },
 "nbformat": 4,
 "nbformat_minor": 2
}
