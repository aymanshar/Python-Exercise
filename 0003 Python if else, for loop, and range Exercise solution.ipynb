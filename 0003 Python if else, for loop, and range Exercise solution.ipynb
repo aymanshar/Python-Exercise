{
 "cells": [
  {
   "cell_type": "markdown",
   "metadata": {},
   "source": [
    "### Python if else, for loop, and range() Exercise\n",
    "https://pynative.com/python-if-else-and-for-loop-exercise-with-solutions/\n",
    "\n",
    "To decide or control the flow of a program, we have branching and looping techniques in Python. To perform decision-making, we use the if-else statement in Python. To iterate over a sequence of elements, we use for loop, and when we want to iterate a block of code repeatedly, as long as the condition is true, we use the while loop.\n",
    "\n",
    "We often use a loop, and if-else statement in our program, so a good understanding of it is necessary.\n",
    "\n",
    "This Python loop exercise aims to help Python developers to learn and practice if-else conditions, for loop, range() function, and while loop. All questions are tested on Python 3.\n",
    "\n",
    "https://pynative.com/python-range-function/"
   ]
  },
  {
   "cell_type": "markdown",
   "metadata": {},
   "source": [
    "### Exercise 1: \n",
    "Print First 10 natural numbers using while loop"
   ]
  },
  {
   "cell_type": "code",
   "execution_count": 1,
   "metadata": {},
   "outputs": [
    {
     "name": "stdout",
     "output_type": "stream",
     "text": [
      "0\n",
      "1\n",
      "2\n",
      "3\n",
      "4\n",
      "5\n",
      "6\n",
      "7\n",
      "8\n",
      "9\n",
      "10\n"
     ]
    }
   ],
   "source": [
    "i = 0\n",
    "while i <= 10:\n",
    "    print(i)\n",
    "    i += 1"
   ]
  },
  {
   "cell_type": "markdown",
   "metadata": {},
   "source": [
    "### Exercise 2: \n",
    "Print the following pattern\n",
    "1 \n",
    "\n",
    "1 2 \n",
    "\n",
    "1 2 3 \n",
    "\n",
    "1 2 3 4 \n",
    "\n",
    "1 2 3 4 5"
   ]
  },
  {
   "cell_type": "code",
   "execution_count": 2,
   "metadata": {},
   "outputs": [
    {
     "name": "stdout",
     "output_type": "stream",
     "text": [
      "Second Number Pattern \n",
      "1 \n",
      "1 2 \n",
      "1 2 3 \n",
      "1 2 3 4 \n",
      "1 2 3 4 5 \n"
     ]
    }
   ],
   "source": [
    "print(\"Second Number Pattern \")\n",
    "lastNumber = 6\n",
    "for row in range(1, lastNumber):\n",
    "    for column in range(1, row + 1):\n",
    "        print(column, end=' ')\n",
    "    print(\"\")"
   ]
  },
  {
   "cell_type": "code",
   "execution_count": 36,
   "metadata": {},
   "outputs": [
    {
     "name": "stdout",
     "output_type": "stream",
     "text": [
      "1 \n",
      "1 2 \n",
      "1 2 3 \n",
      "1 2 3 4 \n",
      "1 2 3 4 5 \n"
     ]
    }
   ],
   "source": [
    "num = 1\n",
    "string = ''\n",
    "while num <= 5:\n",
    "    string = string+str(num)+' '\n",
    "    print(string)\n",
    "    num += 1"
   ]
  },
  {
   "cell_type": "markdown",
   "metadata": {},
   "source": [
    "### Exercise 3: \n",
    "Accept number from user and calculate the sum of all number from 1 to a given number"
   ]
  },
  {
   "cell_type": "code",
   "execution_count": 3,
   "metadata": {},
   "outputs": [
    {
     "name": "stdout",
     "output_type": "stream",
     "text": [
      "Please enter number 2\n",
      "\n",
      "\n",
      "Sum is:  3\n"
     ]
    }
   ],
   "source": [
    "sum1 = 0\n",
    "n = int(input(\"Please enter number \"))\n",
    "for i in range(1, n + 1, 1):\n",
    "    sum1 += i\n",
    "print(\"\\n\")\n",
    "print(\"Sum is: \", sum1)"
   ]
  },
  {
   "cell_type": "markdown",
   "metadata": {},
   "source": [
    "### Exercise 4: \n",
    "Print multiplication table of a given number"
   ]
  },
  {
   "cell_type": "code",
   "execution_count": 4,
   "metadata": {},
   "outputs": [
    {
     "name": "stdout",
     "output_type": "stream",
     "text": [
      "2\n",
      "4\n",
      "6\n",
      "8\n",
      "10\n",
      "12\n",
      "14\n",
      "16\n",
      "18\n",
      "20\n"
     ]
    }
   ],
   "source": [
    "n = 2\n",
    "for i in range(1, 11, 1):\n",
    "    product = n*i\n",
    "    print(product)"
   ]
  },
  {
   "cell_type": "code",
   "execution_count": 39,
   "metadata": {},
   "outputs": [
    {
     "name": "stdout",
     "output_type": "stream",
     "text": [
      "2\n",
      "4\n",
      "6\n",
      "8\n",
      "10\n",
      "12\n",
      "14\n",
      "16\n",
      "18\n",
      "20\n"
     ]
    }
   ],
   "source": [
    "def multtable(number):\n",
    "    i = 1\n",
    "    while i <= 10:\n",
    "        print(number*i)\n",
    "        i += 1\n",
    "multtable(2)"
   ]
  },
  {
   "cell_type": "markdown",
   "metadata": {},
   "source": [
    "### Exercise 5: \n",
    "Given a list, iterate it, and display numbers divisible by five, and if you find a number greater than 150, stop the loop iteration.\n",
    "\n",
    "list1 = [12, 15, 32, 42, 55, 75, 122, 132, 150, 180, 200]"
   ]
  },
  {
   "cell_type": "code",
   "execution_count": 34,
   "metadata": {},
   "outputs": [
    {
     "name": "stdout",
     "output_type": "stream",
     "text": [
      "15\n",
      "55\n",
      "75\n",
      "150\n"
     ]
    }
   ],
   "source": [
    "list1 = [12, 15, 32, 42, 55, 75, 122, 132, 150, 180, 200]\n",
    "for item in list1:\n",
    "    if (item > 150):\n",
    "        break\n",
    "    if(item % 5 == 0):\n",
    "        print(item)"
   ]
  },
  {
   "cell_type": "code",
   "execution_count": 35,
   "metadata": {},
   "outputs": [
    {
     "name": "stdout",
     "output_type": "stream",
     "text": [
      "15\n",
      "55\n",
      "75\n",
      "150\n"
     ]
    }
   ],
   "source": [
    "def divi5(lst):\n",
    "    for x in range(len(lst)):\n",
    "        if lst[x] <= 150 and lst[x] % 5 == 0:\n",
    "            print(lst[x])\n",
    "divi5(list1)"
   ]
  },
  {
   "cell_type": "markdown",
   "metadata": {},
   "source": [
    "### Exercise 6: \n",
    "Given a number count the total number of digits in a number\n",
    "\n",
    "For example, the number is 75869, so the output should be 5."
   ]
  },
  {
   "cell_type": "code",
   "execution_count": 6,
   "metadata": {},
   "outputs": [
    {
     "name": "stdout",
     "output_type": "stream",
     "text": [
      "Total digits are:  5\n"
     ]
    }
   ],
   "source": [
    "num = 75869\n",
    "count = 0\n",
    "while num != 0:\n",
    "    num //= 10\n",
    "    count+= 1\n",
    "print(\"Total digits are: \", count)"
   ]
  },
  {
   "cell_type": "code",
   "execution_count": 30,
   "metadata": {},
   "outputs": [
    {
     "name": "stdout",
     "output_type": "stream",
     "text": [
      "5\n"
     ]
    }
   ],
   "source": [
    "n = 75869\n",
    "print(len(str(n)))"
   ]
  },
  {
   "cell_type": "markdown",
   "metadata": {},
   "source": [
    "### Exercise 7: \n",
    "Print the following pattern using for loop\n",
    "\n",
    "5 4 3 2 1 \n",
    "\n",
    "4 3 2 1 \n",
    "\n",
    "3 2 1 \n",
    "\n",
    "2 1 \n",
    "\n",
    "1"
   ]
  },
  {
   "cell_type": "code",
   "execution_count": 7,
   "metadata": {},
   "outputs": [
    {
     "name": "stdout",
     "output_type": "stream",
     "text": [
      "5 4 3 2 1 \n",
      "4 3 2 1 \n",
      "3 2 1 \n",
      "2 1 \n",
      "1 \n",
      "\n"
     ]
    }
   ],
   "source": [
    "n = 5\n",
    "k = 5\n",
    "for i in range(0,n+1):\n",
    "    for j in range(k-i,0,-1):\n",
    "        print(j,end=' ')\n",
    "    print()"
   ]
  },
  {
   "cell_type": "markdown",
   "metadata": {},
   "source": [
    "### Exercise 8: \n",
    "Reverse the following list using for loop\n",
    "\n",
    "list1 = [10, 20, 30, 40, 50]"
   ]
  },
  {
   "cell_type": "code",
   "execution_count": 8,
   "metadata": {},
   "outputs": [
    {
     "name": "stdout",
     "output_type": "stream",
     "text": [
      "50\n",
      "40\n",
      "30\n",
      "20\n",
      "10\n"
     ]
    }
   ],
   "source": [
    "list1 = [10, 20, 30, 40, 50]\n",
    "start = len(list1) - 1\n",
    "stop = -1\n",
    "step = -1\n",
    "for i in range(start, stop, step) :\n",
    "    print(list1[i])"
   ]
  },
  {
   "cell_type": "markdown",
   "metadata": {},
   "source": [
    "### Exercise 9: \n",
    "Display numbers from -10 to -1 using for loop"
   ]
  },
  {
   "cell_type": "code",
   "execution_count": 9,
   "metadata": {},
   "outputs": [
    {
     "name": "stdout",
     "output_type": "stream",
     "text": [
      "-10\n",
      "-9\n",
      "-8\n",
      "-7\n",
      "-6\n",
      "-5\n",
      "-4\n",
      "-3\n",
      "-2\n",
      "-1\n"
     ]
    }
   ],
   "source": [
    "for num in range(-10, 0, 1):\n",
    "    print(num)"
   ]
  },
  {
   "cell_type": "markdown",
   "metadata": {},
   "source": [
    "### Exercise 10: \n",
    "Display a message “Done” after successful execution of for loop"
   ]
  },
  {
   "cell_type": "code",
   "execution_count": 10,
   "metadata": {},
   "outputs": [
    {
     "name": "stdout",
     "output_type": "stream",
     "text": [
      "0\n",
      "1\n",
      "2\n",
      "3\n",
      "4\n",
      "Done!\n"
     ]
    }
   ],
   "source": [
    "for i in range(5):\n",
    "    print(i)\n",
    "else:\n",
    "    print(\"Done!\")"
   ]
  },
  {
   "cell_type": "markdown",
   "metadata": {},
   "source": [
    "### Exercise 11: \n",
    "Write a program to display all prime numbers within a range\n",
    "\n",
    "Note: A Prime Number is a whole number that cannot be made by multiplying other whole numbers\n",
    "\n",
    "Examples:\n",
    "\n",
    "6 is not a Prime Number because it can be made by 2×3 = 6\n",
    "\n",
    "37 is a Prime Number because no other whole numbers multiply together to make it.\n"
   ]
  },
  {
   "cell_type": "code",
   "execution_count": 11,
   "metadata": {},
   "outputs": [
    {
     "name": "stdout",
     "output_type": "stream",
     "text": [
      "Prime numbers between 25 and 50 are:\n",
      "29\n",
      "31\n",
      "37\n",
      "41\n",
      "43\n",
      "47\n"
     ]
    }
   ],
   "source": [
    "start = 25\n",
    "end = 50\n",
    "print(\"Prime numbers between\", start, \"and\", end, \"are:\")\n",
    "\n",
    "for num in range(start, end + 1):\n",
    "    # all prime numbers are greater than 1\n",
    "    # if number is less than or equal to 1, it is not prime\n",
    "    if num > 1:\n",
    "        for i in range(2, num):\n",
    "            # check for factors\n",
    "            if (num % i) == 0:\n",
    "                # not a prime number so break inner loop and\n",
    "                # look for next number\n",
    "                break\n",
    "        else:\n",
    "            print(num)"
   ]
  },
  {
   "cell_type": "markdown",
   "metadata": {},
   "source": [
    "### Exercise 12: \n",
    "Display Fibonacci series up to 10 terms"
   ]
  },
  {
   "cell_type": "code",
   "execution_count": 12,
   "metadata": {},
   "outputs": [
    {
     "name": "stdout",
     "output_type": "stream",
     "text": [
      "Fibonacci sequence:\n",
      "0  1  1  2  3  5  8  13  21  34  "
     ]
    }
   ],
   "source": [
    "terms = 10\n",
    "# first two terms\n",
    "num1, num2 = 0, 1\n",
    "count = 0\n",
    "\n",
    "print(\"Fibonacci sequence:\")\n",
    "while count < terms:\n",
    "    print(num1, end=\"  \")\n",
    "    temp = num1 + num2\n",
    "    # update values\n",
    "    num1 = num2\n",
    "    num2 = temp\n",
    "    count += 1"
   ]
  },
  {
   "cell_type": "code",
   "execution_count": 40,
   "metadata": {},
   "outputs": [
    {
     "name": "stdout",
     "output_type": "stream",
     "text": [
      "0 1 1 2 3 5 8 13 21 34 "
     ]
    }
   ],
   "source": [
    "n1 = 0\n",
    "n2= 1\n",
    "temp = 0\n",
    "for x in range(1,10+1):\n",
    "    print(n1, end=\" \")\n",
    "    temp = n1+n2\n",
    "    n1=n2\n",
    "    n2=temp"
   ]
  },
  {
   "cell_type": "markdown",
   "metadata": {},
   "source": [
    "### Exercise 13: \n",
    "Write a loop to find the factorial of any number\n",
    "\n",
    "The factorial (symbol: !) means to multiply all whole numbers from the chosen number down to 1.\n",
    "\n",
    "For example: calculate the factorial of 5\n"
   ]
  },
  {
   "cell_type": "code",
   "execution_count": 13,
   "metadata": {},
   "outputs": [
    {
     "name": "stdout",
     "output_type": "stream",
     "text": [
      "The factorial of 5 is 120\n"
     ]
    }
   ],
   "source": [
    "num = 5\n",
    "factorial = 1\n",
    "if num < 0:\n",
    "    print(\"Factorial does not exist for negative numbers\")\n",
    "elif num == 0:\n",
    "    print(\"The factorial of 0 is 1\")\n",
    "else:\n",
    "    for i in range(1, num + 1):\n",
    "        factorial = factorial * i\n",
    "    print(\"The factorial of\", num, \"is\", factorial)"
   ]
  },
  {
   "cell_type": "code",
   "execution_count": 42,
   "metadata": {},
   "outputs": [
    {
     "name": "stdout",
     "output_type": "stream",
     "text": [
      "120\n"
     ]
    }
   ],
   "source": [
    "num=5\n",
    "for i in range(num-1,1,-1):\n",
    "    while i<0:\n",
    "        break\n",
    "    else:\n",
    "     num *= i\n",
    "     factorial = num\n",
    "print(factorial)"
   ]
  },
  {
   "cell_type": "markdown",
   "metadata": {},
   "source": [
    "### Exercise 14:\n",
    "Reverse a given integer number"
   ]
  },
  {
   "cell_type": "code",
   "execution_count": 14,
   "metadata": {},
   "outputs": [
    {
     "name": "stdout",
     "output_type": "stream",
     "text": [
      "Given Number  76542\n",
      "Revered Number  24567\n"
     ]
    }
   ],
   "source": [
    "num = 76542\n",
    "reverse_number = 0\n",
    "print(\"Given Number \", num)\n",
    "while num > 0:\n",
    "    reminder = num % 10\n",
    "    reverse_number = (reverse_number * 10) + reminder\n",
    "    num = num // 10\n",
    "print(\"Revered Number \", reverse_number)"
   ]
  },
  {
   "cell_type": "code",
   "execution_count": 41,
   "metadata": {},
   "outputs": [
    {
     "name": "stdout",
     "output_type": "stream",
     "text": [
      "24567\n"
     ]
    }
   ],
   "source": [
    "num=76542 \n",
    "snum=str(num) \n",
    "print (snum[: : -1])"
   ]
  },
  {
   "cell_type": "markdown",
   "metadata": {},
   "source": [
    "### Exercise 15: \n",
    "Use a loop to display elements from a given list that are present at even index positions\n",
    "\n",
    "my_list = [10, 20, 30, 40, 50, 60, 70, 80, 90, 100]\n"
   ]
  },
  {
   "cell_type": "code",
   "execution_count": 15,
   "metadata": {},
   "outputs": [
    {
     "name": "stdout",
     "output_type": "stream",
     "text": [
      "20 40 60 80 100 "
     ]
    }
   ],
   "source": [
    "my_list = [10, 20, 30, 40, 50, 60, 70, 80, 90, 100]\n",
    "for i in my_list[1::2]:\n",
    "    print(i, end=\" \")"
   ]
  },
  {
   "cell_type": "code",
   "execution_count": 31,
   "metadata": {},
   "outputs": [
    {
     "name": "stdout",
     "output_type": "stream",
     "text": [
      "20\n",
      "40\n",
      "60\n",
      "80\n",
      "100\n"
     ]
    }
   ],
   "source": [
    "my_list = [10, 20, 30, 40, 50, 60, 70, 80, 90, 100]\n",
    "for items in my_list:\n",
    "    if(items%20==0):\n",
    "        print(items)"
   ]
  },
  {
   "cell_type": "markdown",
   "metadata": {},
   "source": [
    "### Exercise 16:\n",
    "Display the cube of the number up to a given integer\n"
   ]
  },
  {
   "cell_type": "code",
   "execution_count": 16,
   "metadata": {},
   "outputs": [
    {
     "name": "stdout",
     "output_type": "stream",
     "text": [
      "Current Number is : 1  and the cube is 1\n",
      "Current Number is : 2  and the cube is 8\n",
      "Current Number is : 3  and the cube is 27\n",
      "Current Number is : 4  and the cube is 64\n",
      "Current Number is : 5  and the cube is 125\n",
      "Current Number is : 6  and the cube is 216\n"
     ]
    }
   ],
   "source": [
    "input_number = 6\n",
    "for i in range(1, input_number + 1):\n",
    "    print(\"Current Number is :\", i, \" and the cube is\", (i * i * i))"
   ]
  },
  {
   "cell_type": "code",
   "execution_count": 29,
   "metadata": {},
   "outputs": [
    {
     "name": "stdout",
     "output_type": "stream",
     "text": [
      "Current no is :  1  and the cube is  1\n",
      "Current no is :  2  and the cube is  8\n",
      "Current no is :  3  and the cube is  27\n",
      "Current no is :  4  and the cube is  64\n",
      "Current no is :  5  and the cube is  125\n",
      "Current no is :  6  and the cube is  216\n"
     ]
    }
   ],
   "source": [
    "input_num = 6\n",
    "for i in range(1, input_num+1) :\n",
    "    print('Current no is : ', i ,' and the cube is ', i**3) #for cube ' i **3 ' exponent in python is **"
   ]
  },
  {
   "cell_type": "markdown",
   "metadata": {},
   "source": [
    "### Exercise 17: \n",
    "Find the sum of the series 2 +22 + 222 + 2222 + .. n terms"
   ]
  },
  {
   "cell_type": "code",
   "execution_count": 17,
   "metadata": {},
   "outputs": [
    {
     "name": "stdout",
     "output_type": "stream",
     "text": [
      "2 22 222 2222 22222 \n",
      "Sum of above series is: 24690\n"
     ]
    }
   ],
   "source": [
    "number_of_terms = 5\n",
    "start = 2\n",
    "sum = 0\n",
    "for i in range(0, number_of_terms):\n",
    "    print(start, end=\" \")\n",
    "    sum += start\n",
    "    start = (start * 10) + 2\n",
    "print(\"\\nSum of above series is:\", sum)"
   ]
  },
  {
   "cell_type": "code",
   "execution_count": 28,
   "metadata": {},
   "outputs": [
    {
     "name": "stdout",
     "output_type": "stream",
     "text": [
      "enter no of rows : 2\n",
      "enter starting value of series : 8\n",
      "8\n",
      "88\n",
      "Sum of the first 2 rows of the above series is 96\n"
     ]
    }
   ],
   "source": [
    "rows = int(input('enter no of rows : '))\n",
    "original_series = int(input('enter starting value of series : '))#to store the starting value of the series\n",
    "series = 0\n",
    "total = 0\n",
    "for i in range(0,rows):\n",
    "    series = (series*10)+original_series\n",
    "    print(series)\n",
    "    total = total + series\n",
    "txt = 'Sum of the first {} rows of the above series is {}'\n",
    "print(txt.format(rows,total))"
   ]
  },
  {
   "cell_type": "markdown",
   "metadata": {},
   "source": [
    "### Exercise 18: \n",
    "Print the following pattern\n",
    "\n",
    "https://pynative.com/print-pattern-python-examples/"
   ]
  },
  {
   "cell_type": "raw",
   "metadata": {},
   "source": [
    "* \n",
    "* * \n",
    "* * * \n",
    "* * * * \n",
    "* * * * * \n",
    "* * * * \n",
    "* * *\n",
    "* * \n",
    "*"
   ]
  },
  {
   "cell_type": "code",
   "execution_count": 18,
   "metadata": {},
   "outputs": [
    {
     "name": "stdout",
     "output_type": "stream",
     "text": [
      "* \r\n",
      "* * \r\n",
      "* * * \r\n",
      "* * * * \r\n",
      "* * * * * \r\n",
      "* * * * \r\n",
      "* * * \r\n",
      "* * \r\n",
      "* \r\n",
      "\r\n"
     ]
    }
   ],
   "source": [
    "rows = 5\n",
    "for i in range(0, rows):\n",
    "    for j in range(0, i + 1):\n",
    "        print(\"*\", end=' ')\n",
    "    print(\"\\r\")\n",
    "\n",
    "for i in range(rows, 0, -1):\n",
    "    for j in range(0, i - 1):\n",
    "        print(\"*\", end=' ')\n",
    "    print(\"\\r\")"
   ]
  },
  {
   "cell_type": "code",
   "execution_count": 26,
   "metadata": {},
   "outputs": [
    {
     "name": "stdout",
     "output_type": "stream",
     "text": [
      "How many blocks do you want to add to your vertical pyramid?: 5\n",
      "*\n",
      "**\n",
      "***\n",
      "****\n",
      "*****\n",
      "****\n",
      "***\n",
      "**\n",
      "*\n"
     ]
    }
   ],
   "source": [
    "user_input=int(input(\"How many blocks do you want to add to your vertical pyramid?: \"))\n",
    "for n in range(1, user_input):\n",
    "        print('*'*n)\n",
    "        \n",
    "for n in range(user_input, 0, -1):\n",
    "        print('*'*n)"
   ]
  },
  {
   "cell_type": "code",
   "execution_count": 27,
   "metadata": {},
   "outputs": [
    {
     "name": "stdout",
     "output_type": "stream",
     "text": [
      "* \n",
      "\r\n",
      "* * \n",
      "\r\n",
      "* * * \n",
      "\r\n",
      "* * * * \n",
      "\r\n",
      "* * * * * \n",
      "\r\n",
      "* * * * \n",
      "\r\n",
      "* * * \n",
      "\r\n",
      "* * \n",
      "\r\n",
      "* \n",
      "\r\n"
     ]
    }
   ],
   "source": [
    "rows = 5\n",
    "for r in range(1,rows+1):#variable 'r' value increases from 1 to 5{range(1,6)}\n",
    "    print('* '*r)#strings displayed several times by multiplying\n",
    "    print(\"\\r\")\n",
    "for c in range(rows-1,0,-1):#variable 'c' value decreases from 4 to 1{range(4,0,-1)}\n",
    "    print('* '*c)\n",
    "    print('\\r')"
   ]
  }
 ],
 "metadata": {
  "kernelspec": {
   "display_name": "Python 3",
   "language": "python",
   "name": "python3"
  },
  "language_info": {
   "codemirror_mode": {
    "name": "ipython",
    "version": 3
   },
   "file_extension": ".py",
   "mimetype": "text/x-python",
   "name": "python",
   "nbconvert_exporter": "python",
   "pygments_lexer": "ipython3",
   "version": "3.7.3"
  }
 },
 "nbformat": 4,
 "nbformat_minor": 2
}
