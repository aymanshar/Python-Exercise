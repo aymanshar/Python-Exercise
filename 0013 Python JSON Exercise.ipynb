{
 "cells": [
  {
   "cell_type": "markdown",
   "metadata": {},
   "source": [
    "### Python JSON Exercise\n",
    "\n",
    "https://pynative.com/python-json-exercise/\n",
    "\n",
    "This Python JSON exercise helps Python developers to practice JSON creation, manipulation, and parsing. As you know, JSON (an acronym for JavaScript Object Notation) is a data-interchange format and is commonly used for client-server communication.\n",
    "\n",
    "https://pynative.com/python/json/"
   ]
  },
  {
   "cell_type": "markdown",
   "metadata": {},
   "source": [
    "### Exercise 1: \n",
    "Convert the following dictionary into JSON format"
   ]
  },
  {
   "cell_type": "raw",
   "metadata": {},
   "source": [
    "data = {\"key1\" : \"value1\", \"key2\" : \"value2\"}"
   ]
  },
  {
   "cell_type": "code",
   "execution_count": null,
   "metadata": {},
   "outputs": [],
   "source": []
  },
  {
   "cell_type": "markdown",
   "metadata": {},
   "source": [
    "### Exercise 2: \n",
    "Access the value of key2 from the following JSON"
   ]
  },
  {
   "cell_type": "raw",
   "metadata": {},
   "source": [
    "import json\n",
    "\n",
    "sampleJson = \"\"\"{\"key1\": \"value1\", \"key2\": \"value2\"}\"\"\"\n",
    "# write code to print the value of key2"
   ]
  },
  {
   "cell_type": "code",
   "execution_count": null,
   "metadata": {},
   "outputs": [],
   "source": []
  },
  {
   "cell_type": "markdown",
   "metadata": {},
   "source": [
    "### Question 3: \n",
    "PrettyPrint following JSON data\n",
    "\n",
    "PrettyPrint following JSON data with indent level 2 and key-value separators should be (\",\", \" = \")."
   ]
  },
  {
   "cell_type": "raw",
   "metadata": {},
   "source": [
    "sampleJson = {\"key1\": \"value1\", \"key2\": \"value2\"}"
   ]
  },
  {
   "cell_type": "code",
   "execution_count": null,
   "metadata": {},
   "outputs": [],
   "source": []
  },
  {
   "cell_type": "markdown",
   "metadata": {},
   "source": [
    "### Exercise 4: \n",
    "Sort JSON keys in and write them into a file\n",
    "\n",
    "Sort following JSON data alphabetical order of keys"
   ]
  },
  {
   "cell_type": "raw",
   "metadata": {},
   "source": [
    "sampleJson = {\"id\" : 1, \"name\" : \"value2\", \"age\" : 29}"
   ]
  },
  {
   "cell_type": "code",
   "execution_count": null,
   "metadata": {},
   "outputs": [],
   "source": []
  },
  {
   "cell_type": "markdown",
   "metadata": {},
   "source": [
    "### Exercise 5: \n",
    "Access the nested key ‘salary’ from the following JSON"
   ]
  },
  {
   "cell_type": "raw",
   "metadata": {},
   "source": [
    "import json\n",
    "\n",
    "sampleJson = \"\"\"{ \n",
    "   \"company\":{ \n",
    "      \"employee\":{ \n",
    "         \"name\":\"emma\",\n",
    "         \"payble\":{ \n",
    "            \"salary\":7000,\n",
    "            \"bonus\":800\n",
    "         }\n",
    "      }\n",
    "   }\n",
    "}\"\"\"\n",
    "\n",
    "# write code to print the value of salary"
   ]
  },
  {
   "cell_type": "code",
   "execution_count": null,
   "metadata": {},
   "outputs": [],
   "source": []
  },
  {
   "cell_type": "markdown",
   "metadata": {},
   "source": [
    "### Exercise 6: \n",
    "Convert the following Vehicle Object into JSON"
   ]
  },
  {
   "cell_type": "raw",
   "metadata": {},
   "source": [
    "import json\n",
    "\n",
    "class Vehicle:\n",
    "    def __init__(self, name, engine, price):\n",
    "        self.name = name\n",
    "        self.engine = engine\n",
    "        self.price = price\n",
    "\n",
    "vehicle = Vehicle(\"Toyota Rav4\", \"2.5L\", 32000)\n",
    "\n",
    "# Convert it into JSON format"
   ]
  },
  {
   "cell_type": "code",
   "execution_count": null,
   "metadata": {},
   "outputs": [],
   "source": []
  },
  {
   "cell_type": "markdown",
   "metadata": {},
   "source": [
    "### Exercise 7: \n",
    "Convert the following JSON into Vehicle Object\n",
    "\n",
    "{ \"name\": \"Toyota Rav4\", \"engine\": \"2.5L\", \"price\": 32000 }\n",
    "\n",
    "For example, we should able to access Vehicle Object using the dot operator like this.\n",
    "\n",
    "vehicleObj.name, vehicleObj.engine, vehicleObj.price"
   ]
  },
  {
   "cell_type": "code",
   "execution_count": null,
   "metadata": {},
   "outputs": [],
   "source": []
  },
  {
   "cell_type": "markdown",
   "metadata": {},
   "source": [
    "### Exercise 8: \n",
    "Check whether following json is valid or invalid. If Invalid correct it\n"
   ]
  },
  {
   "cell_type": "raw",
   "metadata": {},
   "source": [
    "{ \n",
    "   \"company\":{ \n",
    "      \"employee\":{ \n",
    "         \"name\":\"emma\",\n",
    "         \"payble\":{ \n",
    "            \"salary\":7000\n",
    "            \"bonus\":800\n",
    "         }\n",
    "      }\n",
    "   }\n",
    "}"
   ]
  },
  {
   "cell_type": "code",
   "execution_count": null,
   "metadata": {},
   "outputs": [],
   "source": [
    "#Solution 1:\n",
    "\n",
    "#Python provides The json.tool module to validate JSON objects from the command line. Run the following command.\n",
    "\n",
    "#Command: echo \"JSON DATA\" | python -m json.tool\n"
   ]
  },
  {
   "cell_type": "code",
   "execution_count": null,
   "metadata": {},
   "outputs": [],
   "source": []
  },
  {
   "cell_type": "markdown",
   "metadata": {},
   "source": [
    "### Exercise 9: \n",
    "Parse the following JSON to get all the values of a key ‘name’ within an array\n"
   ]
  },
  {
   "cell_type": "raw",
   "metadata": {},
   "source": [
    "[ \n",
    "   { \n",
    "      \"id\":1,\n",
    "      \"name\":\"name1\",\n",
    "      \"color\":[ \n",
    "         \"red\",\n",
    "         \"green\"\n",
    "      ]\n",
    "   },\n",
    "   { \n",
    "      \"id\":2,\n",
    "      \"name\":\"name2\",\n",
    "      \"color\":[ \n",
    "         \"pink\",\n",
    "         \"yellow\"\n",
    "      ]\n",
    "   }\n",
    "]"
   ]
  }
 ],
 "metadata": {
  "kernelspec": {
   "display_name": "Python 3",
   "language": "python",
   "name": "python3"
  },
  "language_info": {
   "codemirror_mode": {
    "name": "ipython",
    "version": 3
   },
   "file_extension": ".py",
   "mimetype": "text/x-python",
   "name": "python",
   "nbconvert_exporter": "python",
   "pygments_lexer": "ipython3",
   "version": "3.7.3"
  }
 },
 "nbformat": 4,
 "nbformat_minor": 2
}
