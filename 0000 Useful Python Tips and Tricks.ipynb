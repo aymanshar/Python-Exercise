{
 "cells": [
  {
   "cell_type": "markdown",
   "metadata": {},
   "source": [
    "## Useful Python Tips and Tricks Every Programmer Should Know\n",
    "\n",
    "https://pynative.com/useful-python-tips-and-tricks-every-programmer-should-know/\n"
   ]
  },
  {
   "cell_type": "markdown",
   "metadata": {},
   "source": [
    "### 1: How to measure the time elapsed to execute your code in Python\n",
    "Let’s say you want to calculate the time taken to complete the execution of your code. Using a time module, You can calculate the time taken to execute your code."
   ]
  },
  {
   "cell_type": "code",
   "execution_count": 1,
   "metadata": {},
   "outputs": [
    {
     "name": "stdout",
     "output_type": "stream",
     "text": [
      "Total time required to execute code is=  0.0\n"
     ]
    }
   ],
   "source": [
    "import time\n",
    "\n",
    "startTime = time.time()\n",
    "\n",
    "# write your code or functions calls\n",
    "\n",
    "endTime = time.time()\n",
    "totalTime = endTime - startTime\n",
    "\n",
    "print(\"Total time required to execute code is= \", totalTime)"
   ]
  },
  {
   "cell_type": "markdown",
   "metadata": {},
   "source": [
    "### 2: Get the difference between the two Lists\n",
    "Let’s say you have the following two lists.\n",
    "- list1 = ['Scott', 'Eric', 'Kelly', 'Emma', 'Smith']\n",
    "- list2 = ['Scott', 'Eric', 'Kelly']\n",
    "\n",
    "If you want to create a third list from the first list which isn’t present in the second list. So you want output like this list3 = [ 'Emma', 'Smith]\n",
    "\n",
    "Let see the best way to do this without looping and checking. To get all the differences you have to use the set’s symmetric_difference operation."
   ]
  },
  {
   "cell_type": "code",
   "execution_count": 2,
   "metadata": {},
   "outputs": [
    {
     "name": "stdout",
     "output_type": "stream",
     "text": [
      "['Emma', 'Smith']\n"
     ]
    }
   ],
   "source": [
    "list1 = ['Scott', 'Eric', 'Kelly', 'Emma', 'Smith']\n",
    "list2 = ['Scott', 'Eric', 'Kelly']\n",
    "\n",
    "set1 = set(list1)\n",
    "set2 = set(list2)\n",
    "\n",
    "list3 = list(set1.symmetric_difference(set2))\n",
    "print(list3)"
   ]
  },
  {
   "cell_type": "markdown",
   "metadata": {},
   "source": [
    "### 3: Calculate memory is being used by an object in Python\n",
    "\n",
    "whenever you use any data structure(such as a list or dictionary or any object) to store values or records.\n",
    "It is good practice to check how much memory your data structure uses.\n",
    "\n",
    "Use the sys.getsizeof function defined in the sys module to get the memory used by built-in objects. sys.getsizeof(object[, default]) return the size of an object in bytes.\n",
    "\n",
    "**Note: The sys.getsizeof doesn’t return the correct value for third-party objects or user defines objects.**\n"
   ]
  },
  {
   "cell_type": "code",
   "execution_count": 3,
   "metadata": {},
   "outputs": [
    {
     "name": "stdout",
     "output_type": "stream",
     "text": [
      "size of list =  104\n",
      "size of name =  61\n"
     ]
    }
   ],
   "source": [
    "import sys\n",
    "\n",
    "list1 = ['Scott', 'Eric', 'Kelly', 'Emma', 'Smith']\n",
    "print(\"size of list = \",sys.getsizeof(list1))\n",
    "\n",
    "name = 'pynative.com'\n",
    "print(\"size of name = \",sys.getsizeof(name))"
   ]
  },
  {
   "cell_type": "markdown",
   "metadata": {},
   "source": [
    "### 4: Removing duplicates items from a list\n",
    "Most of the time we wanted to remove or find the duplicate item from the list.  Let see how to delete duplicate from a list. The best approach is to convert a list into a set. Sets are unordered data-structure of unique values and don’t allow copies."
   ]
  },
  {
   "cell_type": "code",
   "execution_count": 4,
   "metadata": {},
   "outputs": [
    {
     "name": "stdout",
     "output_type": "stream",
     "text": [
      "Original=  [20, 22, 24, 26, 28, 28, 20, 30, 24]\n",
      "After removing duplicate=  [20, 22, 24, 26, 28, 30]\n"
     ]
    }
   ],
   "source": [
    "listNumbers = [20, 22, 24, 26, 28, 28, 20, 30, 24]\n",
    "print(\"Original= \", listNumbers)\n",
    "\n",
    "listNumbers = list(set(listNumbers))\n",
    "print(\"After removing duplicate= \", listNumbers)"
   ]
  },
  {
   "cell_type": "markdown",
   "metadata": {},
   "source": [
    "## 5: Find if all elements in a list are identical\n",
    "Count the occurrence of a first element. If it is the same as the length of a list then it is clear that all elements are the same."
   ]
  },
  {
   "cell_type": "code",
   "execution_count": 5,
   "metadata": {},
   "outputs": [
    {
     "name": "stdout",
     "output_type": "stream",
     "text": [
      "All element are duplicate in listOne True\n",
      "All element are duplicate in listTwo False\n"
     ]
    }
   ],
   "source": [
    "listOne = [20, 20, 20, 20]\n",
    "print(\"All element are duplicate in listOne\", listOne.count(listOne[0]) == len(listOne))\n",
    "\n",
    "listTwo = [20, 20, 20, 50]\n",
    "print(\"All element are duplicate in listTwo\", listTwo.count(listTwo[0]) == len(listTwo))"
   ]
  },
  {
   "cell_type": "code",
   "execution_count": 27,
   "metadata": {},
   "outputs": [
    {
     "name": "stdout",
     "output_type": "stream",
     "text": [
      "All element are duplicate in listOne False\n"
     ]
    }
   ],
   "source": [
    "pythonlistOne = [20, 555, 20, 20,  ...,  20]  # 1 million 20's inside this list\n",
    "print(\"All element are duplicate in listOne\", listOne.count(listOne[0]) == len(listOne))"
   ]
  },
  {
   "cell_type": "markdown",
   "metadata": {},
   "source": [
    "### 6: How to efficiently compare two unordered lists\n",
    "Let say you have two lists that contain the same elements but elements order is different in both the list. For example,\n",
    "\n",
    "- one = [33, 22, 11, 44, 55]\n",
    "- two = [22, 11, 44, 55, 33]\n",
    "\n",
    "The above two lists contains the same element only their order is different. Let see how we can find two lists are identical.\n",
    "\n",
    "- We can use collections.Counter method if our object is hashable.\n",
    "- We can use sorted()if objects are orderable."
   ]
  },
  {
   "cell_type": "code",
   "execution_count": 6,
   "metadata": {},
   "outputs": [
    {
     "name": "stdout",
     "output_type": "stream",
     "text": [
      "is two list are b equal True\n"
     ]
    }
   ],
   "source": [
    "from collections import Counter\n",
    "\n",
    "one = [33, 22, 11, 44, 55]\n",
    "two = [22, 11, 44, 55, 33]\n",
    "\n",
    "print(\"is two list are b equal\", Counter(one) == Counter(two))"
   ]
  },
  {
   "cell_type": "markdown",
   "metadata": {},
   "source": [
    "### 7: How to check if all elements in a list are unique\n",
    "Let say you want to check if the list contains all unique elements or not."
   ]
  },
  {
   "cell_type": "code",
   "execution_count": 7,
   "metadata": {},
   "outputs": [
    {
     "name": "stdout",
     "output_type": "stream",
     "text": [
      "All List elemtnts are Unique  True\n",
      "All List elemtnts are Unique  False\n"
     ]
    }
   ],
   "source": [
    "def isUnique(item):\n",
    "    tempSet = set()\n",
    "    return not any(i in tempSet or tempSet.add(i) for i in item)\n",
    "\n",
    "listOne = [123, 345, 456, 23, 567]\n",
    "print(\"All List elemtnts are Unique \", isUnique(listOne))\n",
    "\n",
    "listTwo = [123, 345, 567, 23, 567]\n",
    "print(\"All List elemtnts are Unique \", isUnique(listTwo))"
   ]
  },
  {
   "cell_type": "code",
   "execution_count": 31,
   "metadata": {},
   "outputs": [
    {
     "name": "stdout",
     "output_type": "stream",
     "text": [
      "All List elemtnts are Unique  True\n",
      "All List elemtnts are Unique  False\n"
     ]
    }
   ],
   "source": [
    "def isUnique(item):\n",
    "  return len(item) == len(list(set(item)))\n",
    "\n",
    "listOne = [123, 345, 456, 23, 567]\n",
    "print(\"All List elemtnts are Unique \", isUnique(listOne))\n",
    "\n",
    "listTwo = [123, 345, 567, 23, 567]\n",
    "print(\"All List elemtnts are Unique \", isUnique(listTwo))"
   ]
  },
  {
   "cell_type": "markdown",
   "metadata": {},
   "source": [
    "### 8: Convert Byte to String\n",
    "To convert the byte to string we can decode the bytes object to produce a string. You can decode in the charset you want."
   ]
  },
  {
   "cell_type": "code",
   "execution_count": 8,
   "metadata": {},
   "outputs": [
    {
     "name": "stdout",
     "output_type": "stream",
     "text": [
      "Byte to string is pynative\n"
     ]
    }
   ],
   "source": [
    "byteVar = b\"pynative\"\n",
    "str = str(byteVar.decode(\"utf-8\"))\n",
    "print(\"Byte to string is\" , str )"
   ]
  },
  {
   "cell_type": "markdown",
   "metadata": {},
   "source": [
    "### 9: Use enumerate\n",
    "Use enumerate() function when you want to access the list element and also want to keep track of the list items’ indices."
   ]
  },
  {
   "cell_type": "code",
   "execution_count": 9,
   "metadata": {},
   "outputs": [
    {
     "name": "stdout",
     "output_type": "stream",
     "text": [
      "Using enumerate\n",
      "Index [ 0 ] Value 123\n",
      "Index [ 1 ] Value 345\n",
      "Index [ 2 ] Value 456\n",
      "Index [ 3 ] Value 23\n"
     ]
    }
   ],
   "source": [
    "listOne = [123, 345, 456, 23]\n",
    "print(\"Using enumerate\")\n",
    "for index, element in enumerate(listOne): \n",
    "    print(\"Index [\", index,\"]\", \"Value\", element)"
   ]
  },
  {
   "cell_type": "markdown",
   "metadata": {},
   "source": [
    "### 10: Merge two dictionaries in a single expression\n",
    "For example, let say you have the following two dictionaries.\n",
    "\n",
    "- currentEmployee = {1: 'Scott', 2: \"Eric\", 3:\"Kelly\"}\n",
    "- formerEmployee  = {2: 'Eric', 4: \"Emma\"}\n",
    "\n",
    "And you want these two dictionaries merged. \n",
    "Let see how to do this.\n",
    "\n",
    "In Python 3.5 and above:"
   ]
  },
  {
   "cell_type": "code",
   "execution_count": 10,
   "metadata": {},
   "outputs": [
    {
     "name": "stdout",
     "output_type": "stream",
     "text": [
      "{1: 'Scott', 2: 'Eric', 3: 'Kelly', 4: 'Emma'}\n"
     ]
    }
   ],
   "source": [
    "currentEmployee = {1: 'Scott', 2: \"Eric\", 3:\"Kelly\"}\n",
    "formerEmployee  = {2: 'Eric', 4: \"Emma\"}\n",
    "\n",
    "allEmployee = {**currentEmployee, **formerEmployee}\n",
    "print(allEmployee)"
   ]
  },
  {
   "cell_type": "raw",
   "metadata": {},
   "source": [
    "In Python 2, or 3.4 and lower"
   ]
  },
  {
   "cell_type": "code",
   "execution_count": 11,
   "metadata": {},
   "outputs": [
    {
     "name": "stdout",
     "output_type": "stream",
     "text": [
      "{1: 'Scott', 2: 'Eric', 3: 'Kelly', 4: 'Emma'}\n"
     ]
    }
   ],
   "source": [
    "currentEmployee = {1: 'Scott', 2: \"Eric\", 3:\"Kelly\"}\n",
    "formerEmployee  = {2: 'Eric', 4: \"Emma\"}\n",
    "\n",
    "def merge_dicts(dictOne, dictTwo):\n",
    "    dictThree = dictOne.copy()\n",
    "    dictThree.update(dictTwo)\n",
    "    return dictThree\n",
    "    \n",
    "print(merge_dicts(currentEmployee, formerEmployee))"
   ]
  },
  {
   "cell_type": "markdown",
   "metadata": {},
   "source": [
    "### 11: Convert two lists into a dictionary\n",
    "Let say you have two lists, and one list contains keys and the second contains values. Let see how can we convert those two lists into a single dictionary. Using the zip function, we can do this."
   ]
  },
  {
   "cell_type": "code",
   "execution_count": 12,
   "metadata": {},
   "outputs": [
    {
     "name": "stdout",
     "output_type": "stream",
     "text": [
      "{54: 'Hard Disk', 65: 'Laptop', 76: 'RAM'}\n"
     ]
    }
   ],
   "source": [
    "ItemId = [54, 65, 76]\n",
    "names = [\"Hard Disk\", \"Laptop\", \"RAM\"]\n",
    "\n",
    "itemDictionary = dict(zip(ItemId, names))\n",
    "\n",
    "print(itemDictionary)"
   ]
  },
  {
   "cell_type": "markdown",
   "metadata": {},
   "source": [
    "### 12: Convert hex string, String to int"
   ]
  },
  {
   "cell_type": "code",
   "execution_count": 13,
   "metadata": {},
   "outputs": [
    {
     "name": "stdout",
     "output_type": "stream",
     "text": [
      "Hext toint 4062\n",
      "String to int 34\n"
     ]
    }
   ],
   "source": [
    "hexNumber = \"0xfde\"\n",
    "stringNumber=\"34\"\n",
    "\n",
    "print(\"Hext toint\", int(hexNumber, 0))\n",
    "print(\"String to int\", int(stringNumber, 0))"
   ]
  },
  {
   "cell_type": "markdown",
   "metadata": {},
   "source": [
    "### 13: Format a decimal to always show 2 decimal places\n",
    "Let say you want to display any float number with 2 decimal places. For example 73.4 as 73.40 and 288.5400 as 88.54."
   ]
  },
  {
   "cell_type": "code",
   "execution_count": 14,
   "metadata": {},
   "outputs": [
    {
     "name": "stdout",
     "output_type": "stream",
     "text": [
      "88.23\n"
     ]
    }
   ],
   "source": [
    "number= 88.2345\n",
    "print('{0:.2f}'.format(number))"
   ]
  },
  {
   "cell_type": "markdown",
   "metadata": {},
   "source": [
    "### 14: Return multiple values from a function"
   ]
  },
  {
   "cell_type": "code",
   "execution_count": 28,
   "metadata": {},
   "outputs": [
    {
     "name": "stdout",
     "output_type": "stream",
     "text": [
      "Product 200 Division 2.0\n"
     ]
    }
   ],
   "source": [
    "def multiplication_Division(num1, num2):\n",
    "  return num1*num2, num2/num1\n",
    "\n",
    "product, division = multiplication_Division(10, 20)\n",
    "print(\"Product\", product, \"Division\", division)"
   ]
  },
  {
   "cell_type": "markdown",
   "metadata": {},
   "source": [
    "### 15: The efficient way to check if a value exists in a NumPy array"
   ]
  },
  {
   "cell_type": "code",
   "execution_count": 29,
   "metadata": {},
   "outputs": [
    {
     "name": "stdout",
     "output_type": "stream",
     "text": [
      "Value 7 occurs in column 0\n",
      "Value 7 does not occur in column 1\n"
     ]
    }
   ],
   "source": [
    "import numpy\n",
    "def value_in_col(array, val, col):\n",
    "  if val in array[:, col]:\n",
    "    print(f'Value {val} occurs in column {col}')\n",
    "  else:\n",
    "    print(f'Value {val} does not occur in column {col}')\n",
    "arraySample = numpy.array([[1, 2], [3, 4], [4, 6], [7, 8]])\n",
    "value_in_col(arraySample, 7, 0)\n",
    "value_in_col(arraySample, 7, 1)"
   ]
  },
  {
   "cell_type": "code",
   "execution_count": null,
   "metadata": {},
   "outputs": [],
   "source": []
  }
 ],
 "metadata": {
  "kernelspec": {
   "display_name": "Python 3",
   "language": "python",
   "name": "python3"
  },
  "language_info": {
   "codemirror_mode": {
    "name": "ipython",
    "version": 3
   },
   "file_extension": ".py",
   "mimetype": "text/x-python",
   "name": "python",
   "nbconvert_exporter": "python",
   "pygments_lexer": "ipython3",
   "version": "3.7.3"
  }
 },
 "nbformat": 4,
 "nbformat_minor": 2
}
