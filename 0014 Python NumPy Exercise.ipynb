{
 "cells": [
  {
   "cell_type": "markdown",
   "metadata": {},
   "source": [
    "### Python NumPy Exercise\n",
    "\n",
    "https://pynative.com/python-numpy-exercise/\n",
    "\n",
    "This NumPy exercise is to help Python developers to learn NumPy skills quickly. NumPy is a Numerical Python library to create and manipulate multidimensional arrays useful in data science.\n"
   ]
  },
  {
   "cell_type": "markdown",
   "metadata": {},
   "source": [
    "### Exercise 1: \n",
    "Create a 4X2 integer array and Prints its attributes\n",
    "\n",
    "Note: The element must be a type of unsigned int16. And print the following Attributes: –\n",
    "\n",
    "The shape of an array.\n",
    "Array dimensions.\n",
    "The Length of each element of the array in bytes."
   ]
  },
  {
   "cell_type": "code",
   "execution_count": null,
   "metadata": {},
   "outputs": [],
   "source": []
  },
  {
   "cell_type": "markdown",
   "metadata": {},
   "source": [
    "### Exercise 2: \n",
    "Create a 5X2 integer array from a range between 100 to 200 such that the difference between each element is 10"
   ]
  },
  {
   "cell_type": "code",
   "execution_count": null,
   "metadata": {},
   "outputs": [],
   "source": []
  },
  {
   "cell_type": "markdown",
   "metadata": {},
   "source": [
    "### Exercise 3: \n",
    "Following is the provided numPy array. return array of items in the third column from all rows"
   ]
  },
  {
   "cell_type": "raw",
   "metadata": {},
   "source": [
    "sampleArray = numpy.array([[11 ,22, 33], [44, 55, 66], [77, 88, 99]])"
   ]
  },
  {
   "cell_type": "code",
   "execution_count": null,
   "metadata": {},
   "outputs": [],
   "source": []
  },
  {
   "cell_type": "markdown",
   "metadata": {},
   "source": [
    "### Exercise 4: \n",
    "Return array of odd rows and even columns from below numpy array\n",
    "\n",
    "sampleArray = numpy.array([[3 ,6, 9, 12], [15 ,18, 21, 24], \n",
    "[27 ,30, 33, 36], [39 ,42, 45, 48], [51 ,54, 57, 60]])"
   ]
  },
  {
   "cell_type": "code",
   "execution_count": null,
   "metadata": {},
   "outputs": [],
   "source": []
  },
  {
   "cell_type": "markdown",
   "metadata": {},
   "source": [
    "### Exercise 5: \n",
    "Create a result array by adding the following two NumPy arrays. Next, modify the result array by calculating the square of each element"
   ]
  },
  {
   "cell_type": "raw",
   "metadata": {},
   "source": [
    "arrayOne = numpy.array([[5, 6, 9], [21 ,18, 27]])\n",
    "arrayTwo = numpy.array([[15 ,33, 24], [4 ,7, 1]])"
   ]
  },
  {
   "cell_type": "code",
   "execution_count": null,
   "metadata": {},
   "outputs": [],
   "source": []
  },
  {
   "cell_type": "markdown",
   "metadata": {},
   "source": [
    "### Exercise 6: \n",
    "Split the array into four equal-sized sub-arrays\n",
    "\n",
    "Note: Create an 8X3 integer array from a range between 10 to 34 such that the difference between each element is 1 and then Split the array into four equal-sized sub-arrays."
   ]
  },
  {
   "cell_type": "code",
   "execution_count": null,
   "metadata": {},
   "outputs": [],
   "source": []
  },
  {
   "cell_type": "markdown",
   "metadata": {},
   "source": [
    "### Exercise 7: \n",
    "Sort following NumPy array\n",
    "- Case 1: Sort array by the second row\n",
    "- Case 2: Sort the array by the second column\n"
   ]
  },
  {
   "cell_type": "raw",
   "metadata": {},
   "source": [
    "sampleArray = numpy.array([[34,43,73],[82,22,12],[53,94,66]])"
   ]
  },
  {
   "cell_type": "code",
   "execution_count": null,
   "metadata": {},
   "outputs": [],
   "source": []
  },
  {
   "cell_type": "markdown",
   "metadata": {},
   "source": [
    "### Exercise 8: \n",
    "\n",
    "Print max from axis 0 and min from axis 1 from the following 2-D array."
   ]
  },
  {
   "cell_type": "raw",
   "metadata": {},
   "source": [
    "sampleArray = numpy.array([[34,43,73],[82,22,12],[53,94,66]])"
   ]
  },
  {
   "cell_type": "code",
   "execution_count": null,
   "metadata": {},
   "outputs": [],
   "source": []
  },
  {
   "cell_type": "markdown",
   "metadata": {},
   "source": [
    "### Exercise 9:\n",
    "Delete the second column from a given array and insert the following new column in its place."
   ]
  },
  {
   "cell_type": "raw",
   "metadata": {},
   "source": [
    "sampleArray = numpy.array([[34,43,73],[82,22,12],[53,94,66]]) \n",
    "newColumn = numpy.array([[10,10,10]])"
   ]
  },
  {
   "cell_type": "code",
   "execution_count": null,
   "metadata": {},
   "outputs": [],
   "source": []
  },
  {
   "cell_type": "markdown",
   "metadata": {},
   "source": [
    "### Exercise 10: \n",
    "Create two 2-D arrays and Plot them using matplotlib"
   ]
  },
  {
   "cell_type": "code",
   "execution_count": null,
   "metadata": {},
   "outputs": [],
   "source": []
  }
 ],
 "metadata": {
  "kernelspec": {
   "display_name": "Python 3",
   "language": "python",
   "name": "python3"
  },
  "language_info": {
   "codemirror_mode": {
    "name": "ipython",
    "version": 3
   },
   "file_extension": ".py",
   "mimetype": "text/x-python",
   "name": "python",
   "nbconvert_exporter": "python",
   "pygments_lexer": "ipython3",
   "version": "3.7.3"
  }
 },
 "nbformat": 4,
 "nbformat_minor": 2
}
