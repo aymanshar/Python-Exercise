{
 "cells": [
  {
   "cell_type": "markdown",
   "metadata": {},
   "source": [
    "### Python Input and Output Exercise\n",
    "https://pynative.com/python-input-and-output-exercise/\n",
    "\n",
    "In Python, we can use the input() to accept input from a user and print() to display output on the console. Also, we can do file handling (Reading, writing, appending, and deleting files).\n",
    "\n",
    "This Python Input and Output exercise aims to help Python developers to learn and practice the Python built-in functions print() and input() to perform input and output tasks in Python. Also, we will solve exercises to practice file handling in Python."
   ]
  },
  {
   "cell_type": "markdown",
   "metadata": {},
   "source": [
    "### Exercise 1: \n",
    "Accept two numbers from the user and calculate multiplication"
   ]
  },
  {
   "cell_type": "code",
   "execution_count": 1,
   "metadata": {},
   "outputs": [
    {
     "name": "stdout",
     "output_type": "stream",
     "text": [
      "Enter first number 3\n",
      "Enter second number 5\n",
      "Sum is 8\n"
     ]
    }
   ],
   "source": [
    "num1 = int(input(\"Enter first number \"))\n",
    "num2 = int(input(\"Enter second number \"))\n",
    "\n",
    "res = num1 + num2\n",
    "print(\"Sum is\", res)"
   ]
  },
  {
   "cell_type": "markdown",
   "metadata": {},
   "source": [
    "### Exercise 2: \n",
    "Display “My Name Is James” as “My**Name**Is**James” using output formatting of a print() function"
   ]
  },
  {
   "cell_type": "code",
   "execution_count": 2,
   "metadata": {},
   "outputs": [
    {
     "name": "stdout",
     "output_type": "stream",
     "text": [
      "My**Name**Is**James\n"
     ]
    }
   ],
   "source": [
    "print('My', 'Name', 'Is', 'James', sep='**')"
   ]
  },
  {
   "cell_type": "markdown",
   "metadata": {},
   "source": [
    "### Exercise 3: \n",
    "Convert decimal number to octal using print() output formatting"
   ]
  },
  {
   "cell_type": "code",
   "execution_count": 4,
   "metadata": {},
   "outputs": [
    {
     "name": "stdout",
     "output_type": "stream",
     "text": [
      "10,\n"
     ]
    }
   ],
   "source": [
    "print('%o,' % (8))"
   ]
  },
  {
   "cell_type": "markdown",
   "metadata": {},
   "source": [
    "### Exercise 4: \n",
    "Display float number with 2 decimal places using print()"
   ]
  },
  {
   "cell_type": "code",
   "execution_count": 13,
   "metadata": {},
   "outputs": [
    {
     "name": "stdout",
     "output_type": "stream",
     "text": [
      "458.54\n"
     ]
    }
   ],
   "source": [
    "#so we find 8 octal number so we use %o is given octal number\n",
    "print('%.2f' % 458.541315)"
   ]
  },
  {
   "cell_type": "code",
   "execution_count": 26,
   "metadata": {},
   "outputs": [
    {
     "name": "stdout",
     "output_type": "stream",
     "text": [
      "458.541315\n",
      "444\n",
      "Values:  902.54\n"
     ]
    }
   ],
   "source": [
    "def add():\n",
    "    a = float(input())\n",
    "    b = float(input())\n",
    "    return a+b\n",
    "\n",
    "\n",
    "print(\"Values: \", add().__format__('.2f'))"
   ]
  },
  {
   "cell_type": "markdown",
   "metadata": {},
   "source": [
    "### Exercise 5: \n",
    "Accept a list of 5 float numbers as an input from the user\n",
    "\n",
    "https://pynative.com/python-accept-list-input-from-user/"
   ]
  },
  {
   "cell_type": "code",
   "execution_count": 6,
   "metadata": {},
   "outputs": [
    {
     "name": "stdout",
     "output_type": "stream",
     "text": [
      "Enter the list size : 2\n",
      "Enter number at location 0 :\n",
      "3\n",
      "Enter number at location 1 :\n",
      "4\n",
      "User List is  [3.0, 4.0]\n"
     ]
    }
   ],
   "source": [
    "floatNumbers = []\n",
    "n = int(input(\"Enter the list size : \"))\n",
    "\n",
    "\n",
    "for i in range(0, n):\n",
    "    print(\"Enter number at location\", i, \":\")\n",
    "    item = float(input())\n",
    "    floatNumbers.append(item)\n",
    "    \n",
    "print(\"User List is \", floatNumbers)"
   ]
  },
  {
   "cell_type": "code",
   "execution_count": 16,
   "metadata": {},
   "outputs": [
    {
     "name": "stdout",
     "output_type": "stream",
     "text": [
      "3 4\n",
      "[3.0, 4.0]\n"
     ]
    }
   ],
   "source": [
    "A=list(map(float,input().split()))\n",
    "print(A)"
   ]
  },
  {
   "cell_type": "code",
   "execution_count": 23,
   "metadata": {},
   "outputs": [
    {
     "name": "stdout",
     "output_type": "stream",
     "text": [
      "input first float: 3\n",
      "input second float: 4\n",
      "input third float: 5\n",
      "input four float: 6\n",
      "input fifth float: 7\n",
      "[3.0, 4.0, 5.0, 6.0, 7.0]\n"
     ]
    }
   ],
   "source": [
    "b = []\n",
    "c = ['first', 'second', 'third','four','fifth']\n",
    "for i in c:\n",
    "\ta = float(input(f'input {i} float: '))\n",
    "\tb.append(a)\n",
    "print(b)"
   ]
  },
  {
   "cell_type": "code",
   "execution_count": 25,
   "metadata": {},
   "outputs": [
    {
     "name": "stdout",
     "output_type": "stream",
     "text": [
      "3\n",
      "4\n",
      "5\n",
      "6\n",
      "7\n",
      "[3.0, 4.0, 5.0, 6.0, 7.0] "
     ]
    }
   ],
   "source": [
    "list1= []\n",
    "for i in range(5):\n",
    "    inputs = float(input())\n",
    "    list1.append(inputs)\n",
    "print(list1,end = ' ')"
   ]
  },
  {
   "cell_type": "markdown",
   "metadata": {},
   "source": [
    "### Exercise 6: \n",
    "Write all content of a given file into a new file by skipping line number 5"
   ]
  },
  {
   "cell_type": "code",
   "execution_count": null,
   "metadata": {},
   "outputs": [],
   "source": [
    "count = 0\n",
    "with open(\"test.txt\", \"r\") as fp:\n",
    "    lines = fp.readlines()\n",
    "    count = len(lines)\n",
    "with open(\"newFile.txt\", \"w\") as fp:\n",
    "    for line in lines:\n",
    "        if (count == 3):\n",
    "            count -= 1\n",
    "            continue`\n",
    "        else:\n",
    "            fp.write(line)\n",
    "            count-=1"
   ]
  },
  {
   "cell_type": "code",
   "execution_count": null,
   "metadata": {},
   "outputs": [],
   "source": [
    "with open(\"text.txt\", \"r\") as f:\n",
    "    lines = f.readlines()\n",
    "count = 0\n",
    "with open(\"newtext.txt\", \"w\") as f:\n",
    "    for i in lines:\n",
    "        count+=1\n",
    "        if count != 5:\n",
    "            f.write(i)"
   ]
  },
  {
   "cell_type": "code",
   "execution_count": null,
   "metadata": {},
   "outputs": [],
   "source": [
    "text1=open(\"myfile.txt\",\"r\")\n",
    "lines=text1.readlines()\n",
    "del lines[4]\n",
    "print(lines)\n",
    "text2=(open(\"newfile.txt\",\"w\"))\n",
    "for i in range(len(lines)):\n",
    " text2.write(str(lines[i]))\n",
    "text2.close()"
   ]
  },
  {
   "cell_type": "code",
   "execution_count": null,
   "metadata": {},
   "outputs": [],
   "source": [
    "testFile = open(\"test.txt\",\"r\")\n",
    "newFile= open(\"newFile.txt\", \"w+\")\n",
    "\n",
    "for num, line in enumerate(testFile, 1):\n",
    "    if num != 5:\n",
    "        newFile.write(line)"
   ]
  },
  {
   "cell_type": "markdown",
   "metadata": {},
   "source": [
    "### Exercise 7: \n",
    "Accept any three string from one input() call"
   ]
  },
  {
   "cell_type": "code",
   "execution_count": 10,
   "metadata": {},
   "outputs": [
    {
     "name": "stdout",
     "output_type": "stream",
     "text": [
      "Enter three stringaaa sss ddfd\n",
      "aaa sss ddfd\n"
     ]
    }
   ],
   "source": [
    "str1, str2, str3 = input(\"Enter three string\").split()\n",
    "print(str1, str2, str3)"
   ]
  },
  {
   "cell_type": "markdown",
   "metadata": {},
   "source": [
    "### Exercise 8: \n",
    "Format the following data using a string.format() method."
   ]
  },
  {
   "cell_type": "code",
   "execution_count": 11,
   "metadata": {},
   "outputs": [
    {
     "name": "stdout",
     "output_type": "stream",
     "text": [
      "I have 1000 dollars so I can buy 3 football for 450.00 dollars.\n"
     ]
    }
   ],
   "source": [
    "quantity = 3\n",
    "totalMoney = 1000\n",
    "price = 450\n",
    "statement1 = \"I have {1} dollars so I can buy {0} football for {2:.2f} dollars.\"\n",
    "print(statement1.format(quantity, totalMoney, price))"
   ]
  },
  {
   "cell_type": "code",
   "execution_count": 22,
   "metadata": {},
   "outputs": [
    {
     "name": "stdout",
     "output_type": "stream",
     "text": [
      "I have 1000 dollars so I can buy 3 football for 450 dollars.\n"
     ]
    }
   ],
   "source": [
    "print(\"I have {} dollars so I can buy {} football for {} dollars.\".format(1000, 3, 450))"
   ]
  },
  {
   "cell_type": "markdown",
   "metadata": {},
   "source": [
    "### Exercise 9: \n",
    "How to check file is empty or not"
   ]
  },
  {
   "cell_type": "code",
   "execution_count": null,
   "metadata": {},
   "outputs": [],
   "source": [
    "import os\n",
    "print(os.stat(\"test.txt\").st_size == 0)"
   ]
  },
  {
   "cell_type": "code",
   "execution_count": null,
   "metadata": {},
   "outputs": [],
   "source": [
    "file_name =\"C:/Users/RUFAI/Desktop/new file.txt\"\n",
    "\n",
    "with open(file_name) as file_object:\n",
    "    content = file_object.read()\n",
    "    if content == \"\":\n",
    "        print(\"file is empty\")"
   ]
  },
  {
   "cell_type": "markdown",
   "metadata": {},
   "source": [
    "### Exercise 10: \n",
    "Read line number 4 from the following file\n",
    "\n",
    "test.txt file:\n",
    "\n",
    "line1\n",
    "\n",
    "line2\n",
    "\n",
    "line3\n",
    "\n",
    "line4\n",
    "\n",
    "line5\n",
    "\n",
    "line6\n",
    "\n",
    "line7"
   ]
  },
  {
   "cell_type": "code",
   "execution_count": null,
   "metadata": {},
   "outputs": [],
   "source": [
    "with open(\"test.txt\", \"r\") as fp:\n",
    "    lines = fp.readlines()\n",
    "    print(lines[3])"
   ]
  },
  {
   "cell_type": "code",
   "execution_count": null,
   "metadata": {},
   "outputs": [],
   "source": []
  }
 ],
 "metadata": {
  "kernelspec": {
   "display_name": "Python 3",
   "language": "python",
   "name": "python3"
  },
  "language_info": {
   "codemirror_mode": {
    "name": "ipython",
    "version": 3
   },
   "file_extension": ".py",
   "mimetype": "text/x-python",
   "name": "python",
   "nbconvert_exporter": "python",
   "pygments_lexer": "ipython3",
   "version": "3.7.3"
  }
 },
 "nbformat": 4,
 "nbformat_minor": 2
}
