{
 "cells": [
  {
   "cell_type": "markdown",
   "metadata": {},
   "source": [
    "### Python Set Exercise with Solutions\n",
    "https://pynative.com/python-set-exercise-with-solutions/\n",
    "\n",
    "A set is an unordered collection of items. Every item is unique in it. i.e., the Python set doesn’t allow duplicates.\n",
    "\n",
    "Read: Complete Guide on\n",
    "\n",
    "https://pynative.com/python-sets/\n"
   ]
  },
  {
   "cell_type": "markdown",
   "metadata": {},
   "source": [
    "### Exercise 1: \n",
    "Add a list of elements to a given set\n",
    "\n",
    "Given:\n",
    "\n",
    "- sampleSet = {\"Yellow\", \"Orange\", \"Black\"}\n",
    "- sampleList = [\"Blue\", \"Green\", \"Red\"]"
   ]
  },
  {
   "cell_type": "code",
   "execution_count": null,
   "metadata": {},
   "outputs": [],
   "source": []
  },
  {
   "cell_type": "markdown",
   "metadata": {},
   "source": [
    "## Exercise 2: \n",
    "Return a new set of identical items from a given two set\n",
    "\n",
    "- set1 = {10, 20, 30, 40, 50}\n",
    "- set2 = {30, 40, 50, 60, 70}"
   ]
  },
  {
   "cell_type": "code",
   "execution_count": null,
   "metadata": {},
   "outputs": [],
   "source": []
  },
  {
   "cell_type": "markdown",
   "metadata": {},
   "source": [
    "### Exercise 3: \n",
    "Returns a new set with all items from both sets by removing duplicates\n",
    "- set1 = {10, 20, 30, 40, 50}\n",
    "- set2 = {30, 40, 50, 60, 70}\n",
    "\n",
    "Note: set is unordered so not necessary this will be the order of the item."
   ]
  },
  {
   "cell_type": "code",
   "execution_count": null,
   "metadata": {},
   "outputs": [],
   "source": []
  },
  {
   "cell_type": "markdown",
   "metadata": {},
   "source": [
    "### Exercise 4: \n",
    "Given two Python sets, update the first set with items that exist only in the first set and not in the second set.\n",
    "- set1 = {10, 20, 30}\n",
    "- set2 = {20, 40, 50}"
   ]
  },
  {
   "cell_type": "code",
   "execution_count": null,
   "metadata": {},
   "outputs": [],
   "source": []
  },
  {
   "cell_type": "markdown",
   "metadata": {},
   "source": [
    "### Exercise 5: \n",
    "Remove items 10, 20, 30 from the following set at once\n",
    "- set1 = {10, 20, 30, 40, 50}"
   ]
  },
  {
   "cell_type": "code",
   "execution_count": null,
   "metadata": {},
   "outputs": [],
   "source": []
  },
  {
   "cell_type": "markdown",
   "metadata": {},
   "source": [
    "### Exercise 6: \n",
    "Return a set of all elements in either A or B, but not both\n",
    "- set1 = {10, 20, 30, 40, 50}\n",
    "- set2 = {30, 40, 50, 60, 70}"
   ]
  },
  {
   "cell_type": "code",
   "execution_count": null,
   "metadata": {},
   "outputs": [],
   "source": []
  },
  {
   "cell_type": "markdown",
   "metadata": {},
   "source": [
    "### Exercise 7: \n",
    "Check if two sets have any elements in common. If yes, display the common elements.\n",
    "- set1 = {10, 20, 30, 40, 50}\n",
    "- set2 = {60, 70, 80, 90, 10}"
   ]
  },
  {
   "cell_type": "code",
   "execution_count": null,
   "metadata": {},
   "outputs": [],
   "source": []
  },
  {
   "cell_type": "markdown",
   "metadata": {},
   "source": [
    "### Exercise 8: \n",
    "Update set1 by adding items from set2, except common items\n",
    "- set1 = {10, 20, 30, 40, 50}\n",
    "- set2 = {30, 40, 50, 60, 70}"
   ]
  },
  {
   "cell_type": "code",
   "execution_count": null,
   "metadata": {},
   "outputs": [],
   "source": []
  },
  {
   "cell_type": "markdown",
   "metadata": {},
   "source": [
    "### Exercise 9: \n",
    "Remove items from set1 that are not common to both set1 and set2\n",
    "- set1 = {10, 20, 30, 40, 50}\n",
    "- set2 = {30, 40, 50, 60, 70}"
   ]
  },
  {
   "cell_type": "code",
   "execution_count": null,
   "metadata": {},
   "outputs": [],
   "source": []
  }
 ],
 "metadata": {
  "kernelspec": {
   "display_name": "Python 3",
   "language": "python",
   "name": "python3"
  },
  "language_info": {
   "codemirror_mode": {
    "name": "ipython",
    "version": 3
   },
   "file_extension": ".py",
   "mimetype": "text/x-python",
   "name": "python",
   "nbconvert_exporter": "python",
   "pygments_lexer": "ipython3",
   "version": "3.7.3"
  }
 },
 "nbformat": 4,
 "nbformat_minor": 2
}
