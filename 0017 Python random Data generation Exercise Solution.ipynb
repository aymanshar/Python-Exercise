{
 "cells": [
  {
   "cell_type": "markdown",
   "metadata": {},
   "source": [
    "### Python random Data generation Exercise\n",
    "\n",
    "https://pynative.com/python-random-number-generation-exercise-questions-and-challenge/\n",
    "\n",
    "This Python exercise will help you to practice random data generation techniques. This exercise question focuses on generating random numbers, choices, and samples using the random module and secrets module.\n",
    "\n",
    "https://pynative.com/python/random/\n",
    "\n",
    "https://pynative.com/python-secrets-module/"
   ]
  },
  {
   "cell_type": "markdown",
   "metadata": {},
   "source": [
    "### Exercise 1: \n",
    "Generate 3 random integers between 100 and 999 which is divisible by 5\n",
    "\n",
    "https://pynative.com/python-random-randrange/"
   ]
  },
  {
   "cell_type": "code",
   "execution_count": 1,
   "metadata": {},
   "outputs": [
    {
     "name": "stdout",
     "output_type": "stream",
     "text": [
      "Generating 3 random integer number between 100 and 999 divisible by 5\n",
      "610, 705, 220, "
     ]
    }
   ],
   "source": [
    "import random\n",
    "\n",
    "print(\"Generating 3 random integer number between 100 and 999 divisible by 5\")\n",
    "for num in range(3):\n",
    "    print(random.randrange(100, 999, 5), end=', ')"
   ]
  },
  {
   "cell_type": "markdown",
   "metadata": {},
   "source": [
    "### Exercise 2: \n",
    "\n",
    "Random Lottery Pick. Generate 100 random lottery tickets and pick two lucky tickets from it as a winner.\n",
    "\n",
    "Note you must adhere to the following conditions:\n",
    "\n",
    "- The lottery number must be 10 digits long.\n",
    "- All 100 ticket number must be unique.\n",
    "\n",
    "Hint: Generate a random list of 1000 numbers using randrange() and then use the sample() method to pick lucky 2 tickets."
   ]
  },
  {
   "cell_type": "code",
   "execution_count": 2,
   "metadata": {},
   "outputs": [
    {
     "name": "stdout",
     "output_type": "stream",
     "text": [
      "creating 100 random lottery tickets\n",
      "Lucky 2 lottery tickets are [9849474137, 6500760823]\n"
     ]
    }
   ],
   "source": [
    "import random\n",
    "\n",
    "lottery_tickets_list = []\n",
    "print(\"creating 100 random lottery tickets\")\n",
    "# to get 100 ticket\n",
    "for i in range(100):\n",
    "    # ticket number must be 10 digit (1000000000, 9999999999)\n",
    "    lottery_tickets_list.append(random.randrange(1000000000, 9999999999))\n",
    "# pick 2 luck tickets\n",
    "winners = random.sample(lottery_tickets_list, 2)\n",
    "print(\"Lucky 2 lottery tickets are\", winners)"
   ]
  },
  {
   "cell_type": "code",
   "execution_count": 24,
   "metadata": {},
   "outputs": [
    {
     "name": "stdout",
     "output_type": "stream",
     "text": [
      "Winners are: [8013383501, 2924216302]\n"
     ]
    }
   ],
   "source": [
    "import random\n",
    "tickets = random.sample(range(1000000000, 9999999999), 100)\n",
    "winners = random.sample(tickets, 2)\n",
    "print('Winners are:',winners)"
   ]
  },
  {
   "cell_type": "markdown",
   "metadata": {},
   "source": [
    "### Exercise 3: \n",
    "Generate 6 digit random secure OTP\n",
    "\n",
    "https://pynative.com/python-secrets-module/#Class_secretsSystemRandom\n",
    "\n",
    "https://pynative.com/python-random-randrange/"
   ]
  },
  {
   "cell_type": "code",
   "execution_count": 3,
   "metadata": {},
   "outputs": [
    {
     "name": "stdout",
     "output_type": "stream",
     "text": [
      "Generating 6 digit random OTP\n",
      "Secure random OTP is  601428\n"
     ]
    }
   ],
   "source": [
    "import secrets\n",
    "\n",
    "#Getting systemRandom class instance out of secrets module\n",
    "secretsGenerator = secrets.SystemRandom()\n",
    "\n",
    "print(\"Generating 6 digit random OTP\")\n",
    "otp = secretsGenerator.randrange(100000, 999999)\n",
    "\n",
    "print(\"Secure random OTP is \", otp)"
   ]
  },
  {
   "cell_type": "markdown",
   "metadata": {},
   "source": [
    "### Exercise 4: \n",
    "Pick a random character from a given String\n",
    "\n",
    "Reference article for help: random.choice()\n",
    "\n",
    "https://pynative.com/python-random-choice/\n"
   ]
  },
  {
   "cell_type": "code",
   "execution_count": 4,
   "metadata": {},
   "outputs": [
    {
     "name": "stdout",
     "output_type": "stream",
     "text": [
      "random char is  n\n"
     ]
    }
   ],
   "source": [
    "import random\n",
    "\n",
    "name = 'pynative'\n",
    "char = random.choice(name)\n",
    "print(\"random char is \", char)"
   ]
  },
  {
   "cell_type": "markdown",
   "metadata": {},
   "source": [
    "### Exercise 5: \n",
    "Generate  random String of length 5\n",
    "\n",
    "Note: String must be the combination of the UPPER case and lower case letters only. No numbers and a special symbol.\n",
    "\n",
    "Reference article for help: Generate random String in Python.\n",
    "\n",
    "https://pynative.com/python-generate-random-string/"
   ]
  },
  {
   "cell_type": "code",
   "execution_count": 5,
   "metadata": {},
   "outputs": [
    {
     "name": "stdout",
     "output_type": "stream",
     "text": [
      "Random String is  BzijB\n"
     ]
    }
   ],
   "source": [
    "import random\n",
    "import string\n",
    "\n",
    "def randomString(stringLength):\n",
    "    \"\"\"Generate a random string of 5 charcters\"\"\"\n",
    "    letters = string.ascii_letters\n",
    "    return ''.join(random.choice(letters) for i in range(stringLength))\n",
    "\n",
    "print (\"Random String is \", randomString(5) )"
   ]
  },
  {
   "cell_type": "markdown",
   "metadata": {},
   "source": [
    "### Exercise 6: \n",
    "Generate a random Password which meets the following conditions\n",
    "\n",
    "- Password length must be 10 characters long.\n",
    "- It must contain at least 2 upper case letters, 1 digit, and 1 special symbol\n",
    "\n",
    "https://pynative.com/python-generate-random-string/#Generate_a_random_password_string_with_Special_characters_letters_and_digits"
   ]
  },
  {
   "cell_type": "code",
   "execution_count": 6,
   "metadata": {},
   "outputs": [
    {
     "name": "stdout",
     "output_type": "stream",
     "text": [
      "Password is  7tMKXLH+4E\n"
     ]
    }
   ],
   "source": [
    "import random\n",
    "import string\n",
    "\n",
    "def randomPassword():\n",
    "    randomSource = string.ascii_letters + string.digits + string.punctuation\n",
    "    password = random.sample(randomSource, 6)\n",
    "    password += random.sample(string.ascii_uppercase, 2)\n",
    "    password += random.choice(string.digits)\n",
    "    password += random.choice(string.punctuation)\n",
    "\n",
    "    passwordList = list(password)\n",
    "    random.SystemRandom().shuffle(passwordList)\n",
    "    password = ''.join(passwordList)\n",
    "    return password\n",
    "\n",
    "print (\"Password is \", randomPassword())"
   ]
  },
  {
   "cell_type": "code",
   "execution_count": 22,
   "metadata": {},
   "outputs": [
    {
     "name": "stdout",
     "output_type": "stream",
     "text": [
      "C0U8|^5Ei5\n"
     ]
    }
   ],
   "source": [
    "import string, secrets\n",
    "s = string.ascii_letters + string.digits + string.punctuation\n",
    "pw = ''\n",
    "uc = 0\n",
    "dg = 0\n",
    "sp = 0\n",
    "while len(pw) < 10:\n",
    "  z = secrets.choice(s)\n",
    "  if z in string.ascii_uppercase: uc += 1\n",
    "  elif z in string.digits: dg += 1\n",
    "  elif z in string.punctuation: sp += 1\n",
    "  pw += z\n",
    "  if len(pw) == 10:\n",
    "    #Does it meet the criteria?  If not, ditch it and try again\n",
    "    if uc < 2 or dg < 2 or sp < 2: \n",
    "      pw = ''\n",
    "      uc = dg = sp = 0\n",
    "print(pw)"
   ]
  },
  {
   "cell_type": "markdown",
   "metadata": {},
   "source": [
    "### Exercise 7: \n",
    "Calculate multiplication of two random float numbers\n",
    "\n",
    "Note:\n",
    "\n",
    "- First random float number must be between 0.1 and 1\n",
    "- Second random float number must be between 9.5 and 99.5\n",
    "\n",
    "https://pynative.com/python-get-random-float-numbers/"
   ]
  },
  {
   "cell_type": "code",
   "execution_count": 7,
   "metadata": {},
   "outputs": [
    {
     "name": "stdout",
     "output_type": "stream",
     "text": [
      "First Random float is  0.4913715746386883\n",
      "Second Random float is  0.4913715746386883\n",
      "Multiplication is  25.216819154351192\n"
     ]
    }
   ],
   "source": [
    "import random\n",
    "\n",
    "num1  = random.random()\n",
    "print(\"First Random float is \", num1)\n",
    "num2 = random.uniform(9.5, 99.5)\n",
    "print(\"Second Random float is \", num1)\n",
    "\n",
    "num3 = num1 * num2\n",
    "print(\"Multiplication is \", num3)"
   ]
  },
  {
   "cell_type": "markdown",
   "metadata": {},
   "source": [
    "### Exercise 8: \n",
    "Generate random secure token of 64 bytes and random URL\n",
    "\n",
    "https://pynative.com/python-secrets-module/"
   ]
  },
  {
   "cell_type": "code",
   "execution_count": 8,
   "metadata": {},
   "outputs": [
    {
     "name": "stdout",
     "output_type": "stream",
     "text": [
      "Random secure Hexadecimal token is  7a3ea77970d7979bcb373a2c3e312843ec3b4e638a222f4579aae2af8e9f7ef48f464c267a36c39f0cfa8e024256c9dfbd88afeb58fa808e7d024ea85b1970bf\n",
      "Random secure URL is  ktz8BsrYJXMDBryzsmN_bbVMRWrFgPXfJulPDP36Uk6bX5VqqdzemWeXR3IPquCiWfbagbBSzu377jfoVJX16A\n"
     ]
    }
   ],
   "source": [
    "import secrets\n",
    "\n",
    "print(\"Random secure Hexadecimal token is \", secrets.token_hex(64))\n",
    "print(\"Random secure URL is \", secrets.token_urlsafe(64))"
   ]
  },
  {
   "cell_type": "markdown",
   "metadata": {},
   "source": [
    "### Exercise 9: \n",
    "Roll dice in such a way that every time you get the same number\n",
    "\n",
    "Dice has 6 numbers (from 1 to 6). Roll dice in such a way that every time you must get the same output number. do this 5 times.\n",
    "\n",
    "https://pynative.com/python-random-seed/\n",
    "\n",
    "https://pynative.com/python-random-choice/"
   ]
  },
  {
   "cell_type": "code",
   "execution_count": 18,
   "metadata": {},
   "outputs": [
    {
     "name": "stdout",
     "output_type": "stream",
     "text": [
      "Randomly selecting same number of a dice\n",
      "4\n",
      "4\n",
      "4\n",
      "4\n",
      "4\n"
     ]
    }
   ],
   "source": [
    "import random\n",
    "\n",
    "dice = [1, 2, 3, 4, 5, 6]\n",
    "print(\"Randomly selecting same number of a dice\")\n",
    "for i in range(5):\n",
    "    random.seed(25)\n",
    "    print(random.choice(dice))"
   ]
  },
  {
   "cell_type": "markdown",
   "metadata": {},
   "source": [
    "### Exercise 10: \n",
    "Generate a random date between given start and end dates"
   ]
  },
  {
   "cell_type": "code",
   "execution_count": 19,
   "metadata": {},
   "outputs": [
    {
     "name": "stdout",
     "output_type": "stream",
     "text": [
      "Printing random date between 1/1/2016  and  12/12/2018\n",
      "Random Date =  04/06/2018\n"
     ]
    }
   ],
   "source": [
    "import random\n",
    "import time\n",
    "\n",
    "def getRandomDate(startDate, endDate ):\n",
    "    print(\"Printing random date between\", startDate, \" and \", endDate)\n",
    "    randomGenerator = random.random()\n",
    "    dateFormat = '%m/%d/%Y'\n",
    "\n",
    "    startTime = time.mktime(time.strptime(startDate, dateFormat))\n",
    "    endTime = time.mktime(time.strptime(endDate, dateFormat))\n",
    "\n",
    "    randomTime = startTime + randomGenerator * (endTime - startTime)\n",
    "    randomDate = time.strftime(dateFormat, time.localtime(randomTime))\n",
    "    return randomDate\n",
    "\n",
    "print (\"Random Date = \", getRandomDate(\"1/1/2016\", \"12/12/2018\"))"
   ]
  }
 ],
 "metadata": {
  "kernelspec": {
   "display_name": "Python 3",
   "language": "python",
   "name": "python3"
  },
  "language_info": {
   "codemirror_mode": {
    "name": "ipython",
    "version": 3
   },
   "file_extension": ".py",
   "mimetype": "text/x-python",
   "name": "python",
   "nbconvert_exporter": "python",
   "pygments_lexer": "ipython3",
   "version": "3.7.3"
  }
 },
 "nbformat": 4,
 "nbformat_minor": 2
}
