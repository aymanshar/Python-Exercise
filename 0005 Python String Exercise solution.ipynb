{
 "cells": [
  {
   "cell_type": "markdown",
   "metadata": {},
   "source": [
    "### Python String Exercise with Solutions\n",
    "https://pynative.com/python-string-exercise/\n",
    "\n",
    "As you know, stings data type is widely used to hold textual data. To perform any programming tasks in Python, a good understanding of string manipulation is necessary.\n",
    "\n",
    "This String exercise project is to help Python developers to learn and practice string operations. All string programs are tested on Python 3."
   ]
  },
  {
   "cell_type": "markdown",
   "metadata": {},
   "source": [
    "### Exercise 1: \n",
    "Given a string of odd length greater than 7, return a new string made of the middle three characters of a given String"
   ]
  },
  {
   "cell_type": "code",
   "execution_count": 1,
   "metadata": {},
   "outputs": [
    {
     "name": "stdout",
     "output_type": "stream",
     "text": [
      "Original String is JhonDipPeta\n",
      "Middle three chars are Dip\n",
      "Original String is Jasonay\n",
      "Middle three chars are son\n"
     ]
    }
   ],
   "source": [
    "def getMiddleThreeChars(sampleStr):\n",
    "  middleIndex = int(len(sampleStr) /2)\n",
    "  print(\"Original String is\", sampleStr)\n",
    "  middleThree = sampleStr[middleIndex-1:middleIndex+2]\n",
    "  print(\"Middle three chars are\", middleThree)\n",
    "  \n",
    "getMiddleThreeChars(\"JhonDipPeta\")\n",
    "getMiddleThreeChars(\"Jasonay\")"
   ]
  },
  {
   "cell_type": "markdown",
   "metadata": {},
   "source": [
    "### Exercise 2: \n",
    "Given two strings, s1 and s2, create a new string by appending s2 in the middle of s1"
   ]
  },
  {
   "cell_type": "code",
   "execution_count": 2,
   "metadata": {},
   "outputs": [
    {
     "name": "stdout",
     "output_type": "stream",
     "text": [
      "Original Strings are Ault Kelly\n",
      "After appending new string in middle AuKellylt\n"
     ]
    }
   ],
   "source": [
    "def appendMiddle(s1, s2):\n",
    "  middleIndex = int(len(s1) /2)\n",
    "  print(\"Original Strings are\", s1, s2)\n",
    "  middleThree = s1[:middleIndex:]+ s2 +s1[middleIndex:]\n",
    "  print(\"After appending new string in middle\", middleThree)\n",
    "  \n",
    "appendMiddle(\"Ault\", \"Kelly\")"
   ]
  },
  {
   "cell_type": "markdown",
   "metadata": {},
   "source": [
    "### Exercise 3: \n",
    "Given two strings, s1, and s2 return a new string made of the first, middle, and last characters each input string"
   ]
  },
  {
   "cell_type": "code",
   "execution_count": 3,
   "metadata": {},
   "outputs": [
    {
     "name": "stdout",
     "output_type": "stream",
     "text": [
      "Mix String is  AJrpan\n"
     ]
    }
   ],
   "source": [
    "def mix_string(s1, s2):\n",
    "    first_char = s1[:1] + s2[:1]\n",
    "    middle_char = s1[int(len(s1) / 2):int(len(s1) / 2) + 1] + s2[int(len(s2) / 2):int(len(s2) / 2) + 1]\n",
    "    last_char = s1[len(s1) - 1] + s2[len(s2) - 1]\n",
    "    res = first_char + middle_char + last_char\n",
    "    print(\"Mix String is \", res)\n",
    "\n",
    "s1 = \"America\"\n",
    "s2 = \"Japan\"\n",
    "mix_string(s1, s2)"
   ]
  },
  {
   "cell_type": "markdown",
   "metadata": {},
   "source": [
    "### Exercise 4: \n",
    "Arrange string characters such that lowercase letters should come first\n",
    "\n",
    "Given an input string with the combination of the lower and upper case arrange characters in such a way that all lowercase letters should come first."
   ]
  },
  {
   "cell_type": "code",
   "execution_count": 4,
   "metadata": {},
   "outputs": [
    {
     "name": "stdout",
     "output_type": "stream",
     "text": [
      "arranging characters giving precedence to lowercase letters:\n",
      "yaivePNT\n"
     ]
    }
   ],
   "source": [
    "str1 = \"PyNaTive\"\n",
    "lower = []\n",
    "upper = []\n",
    "for char in str1:\n",
    "    if char.islower():\n",
    "        lower.append(char)\n",
    "    else:\n",
    "        upper.append(char)\n",
    "sorted_string = ''.join(lower + upper)\n",
    "print(\"arranging characters giving precedence to lowercase letters:\")\n",
    "print(sorted_string)"
   ]
  },
  {
   "cell_type": "code",
   "execution_count": 23,
   "metadata": {},
   "outputs": [
    {
     "name": "stdout",
     "output_type": "stream",
     "text": [
      "yaivePNT"
     ]
    }
   ],
   "source": [
    "str1 = 'PyNaTive'\n",
    "x = len(str1)\n",
    "\n",
    "for y in range(x):\n",
    "    if str1[y].islower() == True:\n",
    "        print(str1[y],end='')\n",
    "\n",
    "for i in range(x):\n",
    "    if str1[i].isupper() == True:\n",
    "        print(str1[i],end='')\n"
   ]
  },
  {
   "cell_type": "markdown",
   "metadata": {},
   "source": [
    "### Exercise 5: \n",
    "Count all lower case, upper case, digits, and special symbols from a given string"
   ]
  },
  {
   "cell_type": "code",
   "execution_count": 5,
   "metadata": {},
   "outputs": [
    {
     "name": "stdout",
     "output_type": "stream",
     "text": [
      "total counts of chars, digits,and symbols \n",
      "\n",
      "Chars =  8 Digits =  3 Symbol =  4\n"
     ]
    }
   ],
   "source": [
    "def findDigitsCharsSymbols(inputString):\n",
    "  charCount = 0\n",
    "  digitCount = 0\n",
    "  symbolCount = 0\n",
    "  for char in inputString:\n",
    "    if char.islower() or char.isupper():\n",
    "      charCount+=1\n",
    "    elif char.isnumeric():\n",
    "      digitCount+=1\n",
    "    else:\n",
    "      symbolCount+=1\n",
    "      \n",
    "  print(\"Chars = \", charCount, \"Digits = \", digitCount, \"Symbol = \", symbolCount)\n",
    "      \n",
    "inputString = \"P@#yn26at^&i5ve\"\n",
    "print(\"total counts of chars, digits,and symbols \\n\")\n",
    "\n",
    "findDigitsCharsSymbols(inputString)"
   ]
  },
  {
   "cell_type": "markdown",
   "metadata": {},
   "source": [
    "### Exercise 6: \n",
    "Given two strings, s1 and s2, create a mixed String using the following rules\n",
    "\n",
    "Note: create a third-string made of the first char of s1 then the last char of s2, Next, the second char of s1 and second last char of s2, and so on. Any leftover chars go at the end of the result.\n",
    "\n",
    "Given:\n",
    "\n",
    "s1 = \"Abc\"\n",
    "\n",
    "s2 = \"Xyz\""
   ]
  },
  {
   "cell_type": "code",
   "execution_count": 6,
   "metadata": {},
   "outputs": [
    {
     "name": "stdout",
     "output_type": "stream",
     "text": [
      "AzbycX\n"
     ]
    }
   ],
   "source": [
    "def mixString(s1, s2):\n",
    "  s2 = s2[::-1]\n",
    "  lengthS1 = len(s1)\n",
    "  lengthS2 = len(s2)\n",
    "  length  = lengthS1 if lengthS1 > lengthS2 else lengthS2 \n",
    "  resultString=\"\"\n",
    "  for i in range(length):\n",
    "    if(i < lengthS1):\n",
    "      resultString = resultString + s1[i]\n",
    "    if(i < lengthS2):\n",
    "      resultString = resultString + s2[i]\n",
    "    \n",
    "  print(resultString)\n",
    "  \n",
    "s1 = \"Abc\"\n",
    "s2 = \"Xyz\"\n",
    "mixString(s1, s2)"
   ]
  },
  {
   "cell_type": "code",
   "execution_count": 24,
   "metadata": {},
   "outputs": [
    {
     "name": "stdout",
     "output_type": "stream",
     "text": [
      "AZBYCX\n"
     ]
    }
   ],
   "source": [
    "s1 = \"ABC\"\n",
    "s2 = \"XYZ\"\n",
    "list1 = list(s1)\n",
    "list2 = list(s2[::-1])\n",
    "result = \"\".join([\"\".join(list(i)) for i in zip(list1, list2)])\n",
    "print(result)"
   ]
  },
  {
   "cell_type": "code",
   "execution_count": 39,
   "metadata": {},
   "outputs": [
    {
     "ename": "TypeError",
     "evalue": "'int' object is not callable",
     "output_type": "error",
     "traceback": [
      "\u001b[1;31m---------------------------------------------------------------------------\u001b[0m",
      "\u001b[1;31mTypeError\u001b[0m                                 Traceback (most recent call last)",
      "\u001b[1;32m<ipython-input-39-55bbb30038f8>\u001b[0m in \u001b[0;36m<module>\u001b[1;34m\u001b[0m\n\u001b[0;32m      2\u001b[0m \u001b[0ms2\u001b[0m \u001b[1;33m=\u001b[0m \u001b[1;34m\"XYZ\"\u001b[0m\u001b[1;33m\u001b[0m\u001b[1;33m\u001b[0m\u001b[0m\n\u001b[0;32m      3\u001b[0m \u001b[0ms2\u001b[0m \u001b[1;33m=\u001b[0m \u001b[0ms2\u001b[0m\u001b[1;33m[\u001b[0m\u001b[1;33m:\u001b[0m\u001b[1;33m:\u001b[0m\u001b[1;33m-\u001b[0m\u001b[1;36m1\u001b[0m\u001b[1;33m]\u001b[0m\u001b[1;33m\u001b[0m\u001b[1;33m\u001b[0m\u001b[0m\n\u001b[1;32m----> 4\u001b[1;33m \u001b[0mls1\u001b[0m \u001b[1;33m=\u001b[0m \u001b[0mlen\u001b[0m\u001b[1;33m(\u001b[0m\u001b[0ms1\u001b[0m\u001b[1;33m)\u001b[0m\u001b[1;33m\u001b[0m\u001b[1;33m\u001b[0m\u001b[0m\n\u001b[0m\u001b[0;32m      5\u001b[0m \u001b[0mls2\u001b[0m \u001b[1;33m=\u001b[0m \u001b[0mlen\u001b[0m\u001b[1;33m(\u001b[0m\u001b[0ms2\u001b[0m\u001b[1;33m)\u001b[0m\u001b[1;33m\u001b[0m\u001b[1;33m\u001b[0m\u001b[0m\n\u001b[0;32m      6\u001b[0m \u001b[0mlen\u001b[0m \u001b[1;33m=\u001b[0m \u001b[0mls1\u001b[0m \u001b[1;32mif\u001b[0m \u001b[0mls1\u001b[0m \u001b[1;33m>\u001b[0m \u001b[0mls2\u001b[0m \u001b[1;32melse\u001b[0m \u001b[0mls2\u001b[0m\u001b[1;33m\u001b[0m\u001b[1;33m\u001b[0m\u001b[0m\n",
      "\u001b[1;31mTypeError\u001b[0m: 'int' object is not callable"
     ]
    }
   ],
   "source": [
    "s1 = \"ABC\"\n",
    "s2 = \"XYZ\"\n",
    "s2 = s2[::-1]\n",
    "ls1 = len(s1)\n",
    "ls2 = len(s2)\n",
    "len = ls1 if ls1 > ls2 else ls2\n",
    "res = \"\"\n",
    "for i in range(len):\n",
    "    if i < ls1:\n",
    "        res = res + s1[i]\n",
    "    if i < ls2:\n",
    "        res = res + s2[i]\n",
    "print(res)"
   ]
  },
  {
   "cell_type": "markdown",
   "metadata": {},
   "source": [
    "### Exercise 7: \n",
    "String characters balance Test\n",
    "\n",
    "We’ll assume that a String s1 and s2 is balanced if all the chars in the s1 are there in s2. characters’ position doesn’t matter\n",
    "\n",
    "Given:\n",
    "\n",
    "str1 = \"Welcome to USA. usa awesome, isn't it?\""
   ]
  },
  {
   "cell_type": "code",
   "execution_count": 7,
   "metadata": {},
   "outputs": [
    {
     "name": "stdout",
     "output_type": "stream",
     "text": [
      "s1 and s2 are balanced True\n",
      "s1 and s2 are balanced False\n"
     ]
    }
   ],
   "source": [
    "def stringBalanceCheck(s1, s2):\n",
    "  flag = True\n",
    "  for char in s1:\n",
    "    if char in s2:\n",
    "      continue\n",
    "    else:\n",
    "      flag = False\n",
    "  return flag\n",
    "  \n",
    "s1 = \"Yn\"\n",
    "s2 = \"PYnative\"\n",
    "flag = stringBalanceCheck(s1, s2)\n",
    "print(\"s1 and s2 are balanced\", flag)\n",
    "\n",
    "s1 = \"Ynf\"\n",
    "s2 = \"PYnative\"\n",
    "flag = stringBalanceCheck(s1, s2)\n",
    "print(\"s1 and s2 are balanced\", flag)"
   ]
  },
  {
   "cell_type": "code",
   "execution_count": 29,
   "metadata": {},
   "outputs": [
    {
     "name": "stdout",
     "output_type": "stream",
     "text": [
      "s1 and s2 are balanced True\n",
      "s1 and s2 are balanced False\n"
     ]
    }
   ],
   "source": [
    "def string(s1,s2):\n",
    "    set1 = set(s1)\n",
    "    set2 = set(s2)\n",
    "    result = set1.issubset(set2)\n",
    "    return result\n",
    "\n",
    "s1 = \"Yn\"\n",
    "s2 = \"PYnative\"\n",
    "flag = string(s1, s2)\n",
    "print(\"s1 and s2 are balanced\", flag)\n",
    "\n",
    "s1 = \"Ynf\"\n",
    "s2 = \"PYnative\"\n",
    "flag = string(s1, s2)\n",
    "print(\"s1 and s2 are balanced\", flag)"
   ]
  },
  {
   "cell_type": "code",
   "execution_count": 32,
   "metadata": {},
   "outputs": [
    {
     "name": "stdout",
     "output_type": "stream",
     "text": [
      "s1 and s2 are balanced True\n",
      "s1 and s2 are balanced False\n"
     ]
    }
   ],
   "source": [
    "def stringBalanceCheck(a, b):\n",
    "    if a in b:\n",
    "        return True\n",
    "    else:\n",
    "        return False\n",
    "\n",
    "\n",
    "s1 = \"yn\"\n",
    "s2 = \"Pynative\"\n",
    "flag = stringBalanceCheck(s1, s2)\n",
    "print(\"s1 and s2 are balanced\", flag)\n",
    "\n",
    "s1 = \"ynf\"\n",
    "s2 = \"Pynative\"\n",
    "flag = stringBalanceCheck(s1, s2)\n",
    "print(\"s1 and s2 are balanced\", flag)"
   ]
  },
  {
   "cell_type": "code",
   "execution_count": 35,
   "metadata": {},
   "outputs": [
    {
     "name": "stdout",
     "output_type": "stream",
     "text": [
      "Enter the string: s\n",
      "Enter the string: sd\n",
      "s1 and s2 are balanced:  True\n"
     ]
    }
   ],
   "source": [
    "flag = True\n",
    "if set(input(\"Enter the string: \")).issubset(input(\"Enter the string: \")):\n",
    "    print(\"s1 and s2 are balanced: \", flag)\n",
    "else:\n",
    "    flag = False\n",
    "    print(\"s1 and s2 are balanced \", flag)"
   ]
  },
  {
   "cell_type": "markdown",
   "metadata": {},
   "source": [
    "### Exercise 8: \n",
    "Find all occurrences of “USA” in a given string ignoring the case"
   ]
  },
  {
   "cell_type": "code",
   "execution_count": 8,
   "metadata": {},
   "outputs": [
    {
     "name": "stdout",
     "output_type": "stream",
     "text": [
      "The USA count is: 2\n"
     ]
    }
   ],
   "source": [
    "inputString = \"Welcome to USA. usa awesome, isn't it?\"\n",
    "substring = \"USA\"\n",
    "tempString = inputString.lower()\n",
    "count = tempString.count(substring.lower())\n",
    "print(\"The USA count is:\", count)"
   ]
  },
  {
   "cell_type": "code",
   "execution_count": 34,
   "metadata": {},
   "outputs": [
    {
     "name": "stdout",
     "output_type": "stream",
     "text": [
      "2\n"
     ]
    }
   ],
   "source": [
    "s1 = \"Welcome to USA. usa awesome, isn't it?\"\n",
    "s2 = \"USA\"\n",
    "print(s1.lower().count(s2.lower()))"
   ]
  },
  {
   "cell_type": "markdown",
   "metadata": {},
   "source": [
    "### Exercise 9: \n",
    "Given a string, return the sum and average of the digits that appear in the string, ignoring all other characters\n",
    "\n",
    "Given:\n",
    "\n",
    "str1 = \"English = 78 Science = 83 Math = 68 History = 65\"\n"
   ]
  },
  {
   "cell_type": "code",
   "execution_count": 9,
   "metadata": {},
   "outputs": [
    {
     "name": "stdout",
     "output_type": "stream",
     "text": [
      "Total Marks is: 294 Percentage is  73.5\n"
     ]
    }
   ],
   "source": [
    "import re\n",
    "\n",
    "inputStr = \"English = 78 Science = 83 Math = 68 History = 65\"\n",
    "markList = [int(num) for num in re.findall(r'\\b\\d+\\b', inputStr)]\n",
    "totalMarks = 0\n",
    "for mark in markList:\n",
    "  totalMarks+=mark\n",
    "\n",
    "percentage = totalMarks/len(markList)  \n",
    "print(\"Total Marks is:\", totalMarks, \"Percentage is \", percentage)"
   ]
  },
  {
   "cell_type": "markdown",
   "metadata": {},
   "source": [
    "### Exercise 10: \n",
    "Given an input string, count occurrences of all characters within a string\n",
    "\n",
    "Given:\n",
    "\n",
    "str1 = \"Apple\""
   ]
  },
  {
   "cell_type": "code",
   "execution_count": 10,
   "metadata": {},
   "outputs": [
    {
     "name": "stdout",
     "output_type": "stream",
     "text": [
      "{'A': 1, 'p': 2, 'l': 1, 'e': 1}\n"
     ]
    }
   ],
   "source": [
    "str1 = \"Apple\"\n",
    "countDict = dict()\n",
    "for char in str1:\n",
    "  count = str1.count(char)\n",
    "  countDict[char]=count\n",
    "print(countDict)"
   ]
  },
  {
   "cell_type": "code",
   "execution_count": 30,
   "metadata": {},
   "outputs": [
    {
     "name": "stdout",
     "output_type": "stream",
     "text": [
      "{'A': 1, 'p': 2, 'l': 1, 'e': 1}\n"
     ]
    }
   ],
   "source": [
    "str1 = \"Apple\"\n",
    "\n",
    "adict = {char : str1.count(char) for char in str1}\n",
    "\n",
    "print(adict)"
   ]
  },
  {
   "cell_type": "code",
   "execution_count": 33,
   "metadata": {},
   "outputs": [
    {
     "name": "stdout",
     "output_type": "stream",
     "text": [
      "{'a': 2, 'y': 3, 'e': 3, 't': 2, 'v': 3, 'i': 2, 'n': 3, 'p': 3}\n"
     ]
    }
   ],
   "source": [
    "def count(str1):\n",
    "    setstr1 = set(str1)\n",
    "    dic = {}\n",
    "    for letter in setstr1:\n",
    "        dic[letter] = str1.count(letter)\n",
    "    return dic\n",
    "dic = count(\"pynativepynvepynative\")   \n",
    "print(dic)"
   ]
  },
  {
   "cell_type": "markdown",
   "metadata": {},
   "source": [
    "### Exercise 11: \n",
    "Reverse a given string\n",
    "\n",
    "Given:\n",
    "\n",
    "str1 = \"PYnative\""
   ]
  },
  {
   "cell_type": "code",
   "execution_count": 11,
   "metadata": {},
   "outputs": [
    {
     "name": "stdout",
     "output_type": "stream",
     "text": [
      "Original String is: PYnative\n",
      "Reversed String is: evitanYP\n"
     ]
    }
   ],
   "source": [
    "str1 = \"PYnative\"\n",
    "print(\"Original String is:\", str1)\n",
    "\n",
    "str1 = str1[::-1]\n",
    "print(\"Reversed String is:\", str1)"
   ]
  },
  {
   "cell_type": "code",
   "execution_count": 12,
   "metadata": {},
   "outputs": [
    {
     "name": "stdout",
     "output_type": "stream",
     "text": [
      "Original String is: PYnative\n",
      "Reversed String is: evitanYP\n"
     ]
    }
   ],
   "source": [
    "str1 = \"PYnative\"\n",
    "print(\"Original String is:\", str1)\n",
    "\n",
    "str1 = ''.join(reversed(str1))\n",
    "print(\"Reversed String is:\", str1)"
   ]
  },
  {
   "cell_type": "markdown",
   "metadata": {},
   "source": [
    "### Exercise 12: \n",
    "Find the last position of a substring “Emma” in a given string\n",
    "\n",
    "Given:\n",
    "\n",
    "str1 = \"Emma is a data scientist who knows Python. Emma works at google.\""
   ]
  },
  {
   "cell_type": "code",
   "execution_count": 13,
   "metadata": {},
   "outputs": [
    {
     "name": "stdout",
     "output_type": "stream",
     "text": [
      "Original String is: Emma is a data scientist who knows Python. Emma works at google.\n",
      "Last occurrence of Emma starts at 43\n"
     ]
    }
   ],
   "source": [
    "str1 = \"Emma is a data scientist who knows Python. Emma works at google.\"\n",
    "print(\"Original String is:\", str1)\n",
    "\n",
    "index = str1.rfind(\"Emma\")\n",
    "print(\"Last occurrence of Emma starts at\", index)"
   ]
  },
  {
   "cell_type": "code",
   "execution_count": 31,
   "metadata": {},
   "outputs": [
    {
     "name": "stdout",
     "output_type": "stream",
     "text": [
      "43\n"
     ]
    }
   ],
   "source": [
    "def where_last_Emma(string):\n",
    "    for number in range(len(string)+1,0,-1):\n",
    "        if string[number:].count(\"Emma\")!=0:\n",
    "            return number\n",
    "\n",
    "print(where_last_Emma(\"Emma is a data scientist who knows Python. Emma works at google.\"))"
   ]
  },
  {
   "cell_type": "markdown",
   "metadata": {},
   "source": [
    "### Exercise 13: \n",
    "Split a given string on hyphens into several substrings and display each substring\n",
    "\n",
    "Given:\n",
    "\n",
    "str1 = Emma-is-a-data-scientist"
   ]
  },
  {
   "cell_type": "code",
   "execution_count": 14,
   "metadata": {},
   "outputs": [
    {
     "name": "stdout",
     "output_type": "stream",
     "text": [
      "Original String is: Emma-is-a-data-scientist\n",
      "Displaying each substring\n",
      "Emma\n",
      "is\n",
      "a\n",
      "data\n",
      "scientist\n"
     ]
    }
   ],
   "source": [
    "str1 = \"Emma-is-a-data-scientist\"\n",
    "print(\"Original String is:\", str1)\n",
    "\n",
    "# split string\n",
    "substrings = str1.split(\"-\")\n",
    "\n",
    "print(\"Displaying each substring\")\n",
    "for sub in substrings:\n",
    "    print(sub)"
   ]
  },
  {
   "cell_type": "code",
   "execution_count": 22,
   "metadata": {},
   "outputs": [
    {
     "name": "stdout",
     "output_type": "stream",
     "text": [
      "Emma\n",
      "is\n",
      "a\n",
      "data\n",
      "scientist\n"
     ]
    }
   ],
   "source": [
    "def display(given):\n",
    "\n",
    "  for i in given:\n",
    "    replace = given.replace(\"-\", \"\\n\")\n",
    "  print(replace)\n",
    "\n",
    "str = \"Emma-is-a-data-scientist\"\n",
    "display(str)"
   ]
  },
  {
   "cell_type": "markdown",
   "metadata": {},
   "source": [
    "### Exercise 14: \n",
    "Remove empty strings from a list of strings\n",
    "Given:\n",
    "\n",
    "str_list = [\"Emma\", \"Jon\", \"\", \"Kelly\", None, \"Eric\", \"\"]"
   ]
  },
  {
   "cell_type": "code",
   "execution_count": 15,
   "metadata": {},
   "outputs": [
    {
     "name": "stdout",
     "output_type": "stream",
     "text": [
      "Original list of sting\n",
      "['Emma', 'Jon', '', 'Kelly', None, 'Eric', '']\n",
      "After removing empty strings\n",
      "['Emma', 'Jon', 'Kelly', 'Eric']\n"
     ]
    }
   ],
   "source": [
    "str_list = [\"Emma\", \"Jon\", \"\", \"Kelly\", None, \"Eric\", \"\"]\n",
    "print(\"Original list of sting\")\n",
    "print(str_list)\n",
    "\n",
    "# use built-in function filter to filter empty value\n",
    "new_str_list = list(filter(None, str_list))\n",
    "\n",
    "print(\"After removing empty strings\")\n",
    "print(new_str_list)"
   ]
  },
  {
   "cell_type": "markdown",
   "metadata": {},
   "source": [
    "### Exercise 15: \n",
    "\n",
    "Remove special symbols/Punctuation from a given string\n",
    "Given:\n",
    "\n",
    "str1 = \"/*Jon is @developer & musician\""
   ]
  },
  {
   "cell_type": "code",
   "execution_count": 16,
   "metadata": {},
   "outputs": [
    {
     "name": "stdout",
     "output_type": "stream",
     "text": [
      "Original string is  /*Jon is @developer & musician\n",
      "New string is  Jon is developer  musician\n"
     ]
    }
   ],
   "source": [
    "import string\n",
    "\n",
    "str1 = \"/*Jon is @developer & musician\"\n",
    "print(\"Original string is \", str1)\n",
    "\n",
    "# use translate function of a string\n",
    "# and maketrans function of str class\n",
    "new_str = str1.translate(str.maketrans('', '', string.punctuation))\n",
    "\n",
    "print(\"New string is \", new_str)"
   ]
  },
  {
   "cell_type": "code",
   "execution_count": 17,
   "metadata": {},
   "outputs": [
    {
     "name": "stdout",
     "output_type": "stream",
     "text": [
      "Original string is  /*Jon is @developer & musician\n",
      "New string is  Jon is developer  musician\n"
     ]
    }
   ],
   "source": [
    "import re\n",
    "\n",
    "str1 = \"/*Jon is @developer & musician\"\n",
    "print(\"Original string is \", str1)\n",
    "\n",
    "str2 = re.sub(r'[^\\w\\s]', '', str1)\n",
    "print(\"New string is \", str2)"
   ]
  },
  {
   "cell_type": "code",
   "execution_count": 25,
   "metadata": {},
   "outputs": [
    {
     "name": "stdout",
     "output_type": "stream",
     "text": [
      "Jon is developer musician\n"
     ]
    }
   ],
   "source": [
    "str1 = \"/*Jon is @developer$ &musician\"\n",
    "result = []\n",
    "for i in str1:\n",
    "    if i.islower() or i.isupper() or i == \" \":\n",
    "        result.append(i)\n",
    "print(\"\".join(result))"
   ]
  },
  {
   "cell_type": "markdown",
   "metadata": {},
   "source": [
    "### Exercise 16: \n",
    "Removal all the characters other than integers from a string\n",
    "\n",
    "Given:\n",
    "\n",
    "str1 = 'I am 25 years and 10 months old'"
   ]
  },
  {
   "cell_type": "code",
   "execution_count": 18,
   "metadata": {},
   "outputs": [
    {
     "name": "stdout",
     "output_type": "stream",
     "text": [
      "Original string is I am 25 years and 10 months old\n",
      "2510\n"
     ]
    }
   ],
   "source": [
    "str1 = 'I am 25 years and 10 months old'\n",
    "print(\"Original string is\", str1)\n",
    "\n",
    "# Retain Numbers in String\n",
    "# Using list comprehension + join() + isdigit()\n",
    "res = \"\".join([item for item in str1 if item.isdigit()])\n",
    "\n",
    "print(res)"
   ]
  },
  {
   "cell_type": "markdown",
   "metadata": {},
   "source": [
    "### Exercise 17: \n",
    "Find words with both alphabets and numbers\n",
    "Given:\n",
    "\n",
    "str1 = \"Emma25 is Data scientist50 and AI Expert\""
   ]
  },
  {
   "cell_type": "code",
   "execution_count": 19,
   "metadata": {},
   "outputs": [
    {
     "name": "stdout",
     "output_type": "stream",
     "text": [
      "The original string is : Emma25 is Data scientist50 and AI Expert\n",
      "Displaying words with alphabets and numbers\n",
      "Emma25\n",
      "scientist50\n"
     ]
    }
   ],
   "source": [
    "str1 = \"Emma25 is Data scientist50 and AI Expert\"\n",
    "print(\"The original string is : \" + str1)\n",
    "\n",
    "# Words with both alphabets and numbers\n",
    "# isdigit() for numbers + isalpha() for alphabets\n",
    "# use any() to check each character\n",
    "\n",
    "res = []\n",
    "temp = str1.split()\n",
    "for item in temp:\n",
    "    if any(char.isalpha() for char in item) and any(char.isdigit() for char in item):\n",
    "        res.append(item)\n",
    "\n",
    "print(\"Displaying words with alphabets and numbers\")\n",
    "for i in res:\n",
    "    print(i)"
   ]
  },
  {
   "cell_type": "code",
   "execution_count": 21,
   "metadata": {},
   "outputs": [
    {
     "name": "stdout",
     "output_type": "stream",
     "text": [
      "Emma25\n",
      "scientist50\n"
     ]
    }
   ],
   "source": [
    "str1 = \"Emma25 is Data scientist50 and AI Expert\"\n",
    "for i in str1.split(' '):\n",
    "    if not i.isalpha() and not i.isnumeric():\n",
    "        print(i)"
   ]
  },
  {
   "cell_type": "markdown",
   "metadata": {},
   "source": [
    "### Exercise 18: \n",
    "Replace each punctuation with # in the following string\n",
    "Given:\n",
    "\n",
    "str1 = '/*Jon is @developer & musician!!'"
   ]
  },
  {
   "cell_type": "code",
   "execution_count": 20,
   "metadata": {},
   "outputs": [
    {
     "name": "stdout",
     "output_type": "stream",
     "text": [
      "The original string is :  /*Jon is @developer & musician!!\n",
      "The strings after replacement :  ##Jon is #developer # musician##\n"
     ]
    }
   ],
   "source": [
    "from string import punctuation\n",
    "\n",
    "str1 = '/*Jon is @developer & musician!!'\n",
    "print(\"The original string is : \", str1)\n",
    "\n",
    "# Replace punctuations with #\n",
    "replace_char = '#'\n",
    "\n",
    "# Using string.punctuation to get the list of all punctuations\n",
    "# use string function replace() to replace each punctuation with #\n",
    "\n",
    "for char in punctuation:\n",
    "    str1 = str1.replace(char, replace_char)\n",
    "\n",
    "print(\"The strings after replacement : \", str1)"
   ]
  },
  {
   "cell_type": "code",
   "execution_count": 26,
   "metadata": {},
   "outputs": [
    {
     "name": "stdout",
     "output_type": "stream",
     "text": [
      "##Jon is #developer# #musician\n"
     ]
    }
   ],
   "source": [
    "import re\n",
    "str2 = re.sub(r\"[^\\w\\s]\", \"#\", str1)\n",
    "print(str2)"
   ]
  },
  {
   "cell_type": "code",
   "execution_count": null,
   "metadata": {},
   "outputs": [],
   "source": []
  }
 ],
 "metadata": {
  "kernelspec": {
   "display_name": "Python 3",
   "language": "python",
   "name": "python3"
  },
  "language_info": {
   "codemirror_mode": {
    "name": "ipython",
    "version": 3
   },
   "file_extension": ".py",
   "mimetype": "text/x-python",
   "name": "python",
   "nbconvert_exporter": "python",
   "pygments_lexer": "ipython3",
   "version": "3.7.3"
  }
 },
 "nbformat": 4,
 "nbformat_minor": 2
}
