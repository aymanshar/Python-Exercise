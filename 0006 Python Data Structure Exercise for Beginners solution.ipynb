{
 "cells": [
  {
   "cell_type": "markdown",
   "metadata": {},
   "source": [
    "### Python Data Structure Exercise for Beginners\n",
    "\n",
    "https://pynative.com/python-data-structure-exercise-for-beginners/\n",
    "\n",
    "This data structure exercise is for beginners to understand and practice basic data structure in Python. Practice Python List, Set, Dictionary, and Tuple questions.\n",
    "\n",
    "The data structure is widely used to hold any data. To perform any programming tasks in Python, good knowledge of data structure is a must."
   ]
  },
  {
   "cell_type": "markdown",
   "metadata": {},
   "source": [
    "### Exercise 1: \n",
    "Given two lists create a third list by picking an odd-index element from the first list and even index elements from the second.\n",
    "\n",
    "Given:\n",
    "\n",
    "- listOne = [3, 6, 9, 12, 15, 18, 21]\n",
    "- listTwo = [4, 8, 12, 16, 20, 24, 28]"
   ]
  },
  {
   "cell_type": "code",
   "execution_count": 1,
   "metadata": {},
   "outputs": [
    {
     "name": "stdout",
     "output_type": "stream",
     "text": [
      "Element at odd-index positions from list one\n",
      "[6, 12, 18]\n",
      "Element at even-index positions from list two\n",
      "[4, 12, 20, 28]\n",
      "Printing Final third list\n",
      "[6, 12, 18, 4, 12, 20, 28]\n"
     ]
    }
   ],
   "source": [
    "listOne = [3, 6, 9, 12, 15, 18, 21]\n",
    "listTwo = [4, 8, 12, 16, 20, 24, 28]\n",
    "listThree = list()\n",
    "\n",
    "oddElements = listOne[1::2]\n",
    "print(\"Element at odd-index positions from list one\")\n",
    "print(oddElements)\n",
    "\n",
    "EvenElement = listTwo[0::2]\n",
    "print(\"Element at even-index positions from list two\")\n",
    "print(EvenElement)\n",
    "\n",
    "print(\"Printing Final third list\")\n",
    "listThree.extend(oddElements)\n",
    "listThree.extend(EvenElement)\n",
    "print(listThree)"
   ]
  },
  {
   "cell_type": "markdown",
   "metadata": {},
   "source": [
    "### Exercise 2: \n",
    "Given a list, remove the element at index 4 and add it to the 2nd position and at the end of the list\n",
    "\n",
    "Given:\n",
    "\n",
    "list1 = [54, 44, 27, 79, 91, 41]\n"
   ]
  },
  {
   "cell_type": "code",
   "execution_count": 2,
   "metadata": {},
   "outputs": [
    {
     "name": "stdout",
     "output_type": "stream",
     "text": [
      "Original list  [34, 54, 67, 89, 11, 43, 94]\n",
      "List After removing element at index 4  [34, 54, 67, 89, 43, 94]\n",
      "List after Adding element at index 2  [34, 54, 11, 67, 89, 43, 94]\n",
      "List after Adding element at last  [34, 54, 11, 67, 89, 43, 94, 11]\n"
     ]
    }
   ],
   "source": [
    "sampleList = [34, 54, 67, 89, 11, 43, 94]\n",
    "\n",
    "print(\"Original list \", sampleList)\n",
    "element = sampleList.pop(4)\n",
    "print(\"List After removing element at index 4 \", sampleList)\n",
    "\n",
    "sampleList.insert(2, element)\n",
    "print(\"List after Adding element at index 2 \", sampleList)\n",
    "\n",
    "sampleList.append(element)\n",
    "print(\"List after Adding element at last \", sampleList)"
   ]
  },
  {
   "cell_type": "code",
   "execution_count": 20,
   "metadata": {},
   "outputs": [
    {
     "name": "stdout",
     "output_type": "stream",
     "text": [
      "[34, 54, 11, 67, 89, 43, 94, 11]\n"
     ]
    }
   ],
   "source": [
    "List = [34, 54, 67, 89, 11, 43, 94]\n",
    "List[2], List[3], List[4] = List[4], List[2], List[3]\n",
    "List.append(List[2])\n",
    "print(List)"
   ]
  },
  {
   "cell_type": "markdown",
   "metadata": {},
   "source": [
    "### Exercise 3: \n",
    "Given a list slice it into 3 equal chunks and reverse each chunk\n",
    "\n",
    "Given:\n",
    "\n",
    "sampleList = [11, 45, 8, 23, 14, 12, 78, 45, 89]"
   ]
  },
  {
   "cell_type": "code",
   "execution_count": 3,
   "metadata": {},
   "outputs": [
    {
     "name": "stdout",
     "output_type": "stream",
     "text": [
      "Original list  [11, 45, 8, 23, 14, 12, 78, 45, 89]\n",
      "Chunk  1 [11, 45, 8]\n",
      "After reversing it  [8, 45, 11]\n",
      "Chunk  2 [23, 14, 12]\n",
      "After reversing it  [12, 14, 23]\n",
      "Chunk  3 [78, 45, 89]\n",
      "After reversing it  [89, 45, 78]\n"
     ]
    }
   ],
   "source": [
    "sampleList = [11, 45, 8, 23, 14, 12, 78, 45, 89]\n",
    "print(\"Original list \", sampleList)\n",
    "\n",
    "length = len(sampleList)\n",
    "chunkSize  = int(length/3)\n",
    "start = 0\n",
    "end = chunkSize\n",
    "for i in range(1, 4, 1):\n",
    "  indexes = slice(start, end, 1)\n",
    "  listChunk = sampleList[indexes]\n",
    "  print(\"Chunk \", i , listChunk)\n",
    "  print(\"After reversing it \", list(reversed(listChunk)))\n",
    "  start = end\n",
    "  if(i != 2):\n",
    "    end +=chunkSize\n",
    "  else:\n",
    "    end += length - chunkSize"
   ]
  },
  {
   "cell_type": "code",
   "execution_count": 13,
   "metadata": {},
   "outputs": [
    {
     "name": "stdout",
     "output_type": "stream",
     "text": [
      "[8, 45, 11]\n",
      "[12, 14, 23]\n",
      "[89, 45, 78]\n"
     ]
    }
   ],
   "source": [
    "def something(list):\n",
    "    index = int(len(data) / 3)\n",
    "    i = 0\n",
    "    while i < index:\n",
    "        chunk = data[index*i:index*(i+1)]\n",
    "        chunk = chunk[::-1]\n",
    "        print(chunk)\n",
    "        i = i + 1\n",
    "\n",
    "data = [11, 45, 8, 23, 14, 12, 78, 45, 89]\n",
    "something(data)"
   ]
  },
  {
   "cell_type": "code",
   "execution_count": 16,
   "metadata": {},
   "outputs": [
    {
     "name": "stdout",
     "output_type": "stream",
     "text": [
      "[8, 45, 11]\n",
      "[12, 14, 23]\n",
      "[89, 45, 78]\n"
     ]
    }
   ],
   "source": [
    "sampleList = [11, 45, 8, 23, 14, 12, 78, 45, 89]\n",
    "chunk1 = sampleList[:3]\n",
    "print(chunk1[::-1])\n",
    "chunk2 = sampleList[3:6]\n",
    "print(chunk2[::-1])\n",
    "chunk3 = sampleList[6:9]\n",
    "print(chunk3[::-1])"
   ]
  },
  {
   "cell_type": "markdown",
   "metadata": {},
   "source": [
    "### Exercise 4: \n",
    "Iterate a given list and count the occurrence of each element and create a dictionary to show the count of each element"
   ]
  },
  {
   "cell_type": "code",
   "execution_count": 4,
   "metadata": {},
   "outputs": [
    {
     "name": "stdout",
     "output_type": "stream",
     "text": [
      "Original list  [11, 45, 8, 11, 23, 45, 23, 45, 89]\n",
      "Printing count of each item   {11: 2, 45: 3, 8: 1, 23: 2, 89: 1}\n"
     ]
    }
   ],
   "source": [
    "sampleList = [11, 45, 8, 11, 23, 45, 23, 45, 89]\n",
    "print(\"Original list \", sampleList)\n",
    "\n",
    "countDict = dict()\n",
    "for item in sampleList:\n",
    "  if(item in countDict):\n",
    "    countDict[item] += 1\n",
    "  else:\n",
    "    countDict[item] = 1\n",
    "  \n",
    "print(\"Printing count of each item  \",countDict)"
   ]
  },
  {
   "cell_type": "code",
   "execution_count": 15,
   "metadata": {},
   "outputs": [
    {
     "name": "stdout",
     "output_type": "stream",
     "text": [
      "{11: 2, 45: 3, 8: 1, 23: 2, 89: 1}\n"
     ]
    }
   ],
   "source": [
    "lst = [11, 45, 8, 11, 23, 45, 23, 45, 89]\n",
    "dc = {}\n",
    "for x in lst:\n",
    "    dc[x] = lst.count(x)\n",
    "print(dc)"
   ]
  },
  {
   "cell_type": "code",
   "execution_count": 17,
   "metadata": {},
   "outputs": [
    {
     "name": "stdout",
     "output_type": "stream",
     "text": [
      "{11: 2, 45: 3, 8: 1, 23: 2, 89: 1}\n"
     ]
    }
   ],
   "source": [
    "l=[11, 45, 8, 11, 23, 45, 23, 45, 89]\n",
    "#creating empty Dictionary\n",
    "Count_Dict={}\n",
    "for i in l:\n",
    "    count=0\n",
    "    for j in l:\n",
    "        if i==j:\n",
    "            count+=1\n",
    "        Count_Dict[i]=count\n",
    "print(Count_Dict)"
   ]
  },
  {
   "cell_type": "code",
   "execution_count": 19,
   "metadata": {},
   "outputs": [
    {
     "name": "stdout",
     "output_type": "stream",
     "text": [
      "{11: 2, 45: 3, 8: 1, 23: 2, 89: 1}\n"
     ]
    }
   ],
   "source": [
    "s_List = [11, 45, 8, 11, 23, 45, 23, 45, 89]\n",
    "print({i: s_List.count(i) for i in s_List})"
   ]
  },
  {
   "cell_type": "markdown",
   "metadata": {},
   "source": [
    "### Exercise 5: \n",
    "Given a two list of equal size create a Python set such that it shows the element from both lists in the pair"
   ]
  },
  {
   "cell_type": "code",
   "execution_count": 5,
   "metadata": {},
   "outputs": [
    {
     "name": "stdout",
     "output_type": "stream",
     "text": [
      "First List  [2, 3, 4, 5, 6, 7, 8]\n",
      "Second List  [4, 9, 16, 25, 36, 49, 64]\n",
      "{(6, 36), (8, 64), (4, 16), (5, 25), (3, 9), (7, 49), (2, 4)}\n"
     ]
    }
   ],
   "source": [
    "firstList = [2, 3, 4, 5, 6, 7, 8]\n",
    "print(\"First List \", firstList)\n",
    "\n",
    "secondList = [4, 9, 16, 25, 36, 49, 64]\n",
    "print(\"Second List \", secondList)\n",
    "\n",
    "result = zip(firstList, secondList)\n",
    "resultSet = set(result)\n",
    "print(resultSet)"
   ]
  },
  {
   "cell_type": "markdown",
   "metadata": {},
   "source": [
    "### Exercise 6: \n",
    "Given the following two sets find the intersection and remove those elements from the first set"
   ]
  },
  {
   "cell_type": "code",
   "execution_count": 6,
   "metadata": {},
   "outputs": [
    {
     "name": "stdout",
     "output_type": "stream",
     "text": [
      "First Set  {65, 42, 78, 83, 23, 57, 29}\n",
      "Second Set  {67, 73, 43, 48, 83, 57, 29}\n",
      "Intersection is  {57, 83, 29}\n",
      "First Set after removing common element  {65, 42, 78, 23}\n"
     ]
    }
   ],
   "source": [
    "firstSet  = {23, 42, 65, 57, 78, 83, 29}\n",
    "secondSet = {57, 83, 29, 67, 73, 43, 48}\n",
    "\n",
    "print(\"First Set \", firstSet)\n",
    "print(\"Second Set \", secondSet)\n",
    "\n",
    "intersection = firstSet.intersection(secondSet)\n",
    "print(\"Intersection is \", intersection)\n",
    "for item in intersection:\n",
    "  firstSet.remove(item)\n",
    "\n",
    "print(\"First Set after removing common element \", firstSet)"
   ]
  },
  {
   "cell_type": "code",
   "execution_count": 18,
   "metadata": {},
   "outputs": [
    {
     "name": "stdout",
     "output_type": "stream",
     "text": [
      "{65, 42, 78, 23}\n"
     ]
    }
   ],
   "source": [
    "firstSet = {23, 42, 65, 57, 78, 83, 29}\n",
    "secondSet = {57, 83, 29, 67, 73, 43, 48}\n",
    "\n",
    "print(firstSet - secondSet)"
   ]
  },
  {
   "cell_type": "markdown",
   "metadata": {},
   "source": [
    "### Exercise 7: \n",
    "Given two sets, Checks if One Set is a subset or superset of another Set. if the subset is found delete all elements from that set\n",
    "\n",
    "Given:\n",
    "\n",
    "- firstSet = {27, 43, 34}\n",
    "- secondSet = {34, 93, 22, 27, 43, 53, 48}"
   ]
  },
  {
   "cell_type": "code",
   "execution_count": 7,
   "metadata": {},
   "outputs": [
    {
     "name": "stdout",
     "output_type": "stream",
     "text": [
      "First Set  {57, 83, 29}\n",
      "Second Set  {67, 73, 43, 48, 83, 57, 29}\n",
      "First set is subset of second set - True\n",
      "Second set is subset of First set -  False\n",
      "First set is Super set of second set -  False\n",
      "Second set is Super set of First set -  True\n",
      "First Set  set()\n",
      "Second Set  {67, 73, 43, 48, 83, 57, 29}\n"
     ]
    }
   ],
   "source": [
    "firstSet  = {57, 83, 29}\n",
    "secondSet = {57, 83, 29, 67, 73, 43, 48}\n",
    "\n",
    "print(\"First Set \", firstSet)\n",
    "print(\"Second Set \", secondSet)\n",
    "\n",
    "print(\"First set is subset of second set -\", firstSet.issubset(secondSet))\n",
    "print(\"Second set is subset of First set - \", secondSet.issubset(firstSet))\n",
    "\n",
    "print(\"First set is Super set of second set - \", firstSet.issuperset(secondSet))\n",
    "print(\"Second set is Super set of First set - \", secondSet.issuperset(firstSet))\n",
    "\n",
    "if(firstSet.issubset(secondSet)):\n",
    "  firstSet.clear()\n",
    "  \n",
    "if(secondSet.issubset(firstSet)):\n",
    "  secondSet.clear()\n",
    "\n",
    "print(\"First Set \", firstSet)\n",
    "print(\"Second Set \", secondSet)"
   ]
  },
  {
   "cell_type": "markdown",
   "metadata": {},
   "source": [
    "### Exercise 8: \n",
    "Iterate a given list and Check if a given element already exists in a dictionary as a key’s value if not delete it from the list\n",
    "Given:\n",
    "\n",
    "- rollNumber = [47, 64, 69, 37, 76, 83, 95, 97]\n",
    "- sampleDict ={'Jhon':47, 'Emma':69, 'Kelly':76, 'Jason':97}\n"
   ]
  },
  {
   "cell_type": "code",
   "execution_count": 8,
   "metadata": {},
   "outputs": [
    {
     "name": "stdout",
     "output_type": "stream",
     "text": [
      "List - [47, 64, 69, 37, 76, 83, 95, 97]\n",
      "Dictionary -  {'Jhon': 47, 'Emma': 69, 'Kelly': 76, 'Jason': 97}\n",
      "after removing unwanted elemnts from list  [47, 69, 76, 97]\n"
     ]
    }
   ],
   "source": [
    "rollNumber  = [47, 64, 69, 37, 76, 83, 95, 97]\n",
    "sampleDict  ={'Jhon':47, 'Emma':69, 'Kelly':76, 'Jason':97} \n",
    "\n",
    "print(\"List -\", rollNumber)\n",
    "print(\"Dictionary - \", sampleDict)\n",
    "\n",
    "rollNumber[:] = [item for item in rollNumber if item in sampleDict.values()]\n",
    "print(\"after removing unwanted elemnts from list \", rollNumber)"
   ]
  },
  {
   "cell_type": "code",
   "execution_count": 11,
   "metadata": {},
   "outputs": [
    {
     "name": "stdout",
     "output_type": "stream",
     "text": [
      "[47, 69, 76, 97]\n"
     ]
    }
   ],
   "source": [
    "rollNumber = [47, 64, 69, 37, 76, 83, 95, 97]\n",
    "sampleDict ={'Jhon':47, 'Emma':69, 'Kelly':76, 'Jason':97}\n",
    "for i in rollNumber[:]:\n",
    "    if i not in sampleDict.values():\n",
    "        rollNumber.remove(i)\n",
    "print(rollNumber)"
   ]
  },
  {
   "cell_type": "markdown",
   "metadata": {},
   "source": [
    "### Exercise 9: \n",
    "Given a dictionary get all values from the dictionary and add them to a list but don’t add duplicates\n",
    "\n",
    "Given:\n",
    "\n",
    "speed ={'jan':47, 'feb':52, 'march':47, 'April':44, 'May':52, 'June':53, 'july':54, 'Aug':44, 'Sept':54}"
   ]
  },
  {
   "cell_type": "code",
   "execution_count": 9,
   "metadata": {},
   "outputs": [
    {
     "name": "stdout",
     "output_type": "stream",
     "text": [
      "Dictionary's values -  dict_values([47, 52, 47, 44, 52, 53, 54, 44, 54])\n",
      "unique list [47, 52, 44, 53, 54]\n"
     ]
    }
   ],
   "source": [
    "speed  ={'jan':47, 'feb':52, 'march':47, 'April':44, 'May':52, 'June':53,\n",
    "          'july':54, 'Aug':44, 'Sept':54} \n",
    "\n",
    "print(\"Dictionary's values - \", speed.values())\n",
    "\n",
    "speedList = list()\n",
    "for item in speed.values():\n",
    "  if item not in speedList:\n",
    "    speedList.append(item)\n",
    "print(\"unique list\", speedList)"
   ]
  },
  {
   "cell_type": "code",
   "execution_count": 14,
   "metadata": {},
   "outputs": [
    {
     "name": "stdout",
     "output_type": "stream",
     "text": [
      "[47, 52, 44, 53, 54]\n"
     ]
    }
   ],
   "source": [
    "speed ={'jan':47,'feb':52,'march':47,'April':44,'May':52,'June':53, 'july':54, 'Aug':44, 'Sept':54}\n",
    "\n",
    "new_list = []\n",
    "\n",
    "for key, val in speed.items():\n",
    "    if val not in new_list:\n",
    "        new_list.append(val)\n",
    "print(new_list)"
   ]
  },
  {
   "cell_type": "markdown",
   "metadata": {},
   "source": [
    "### Exercise 10: \n",
    "Remove duplicate from a list and create a tuple and find the minimum and maximum number\n",
    "\n",
    "Given:\n",
    "\n",
    "sampleList = [87, 45, 41, 65, 94, 41, 99, 94]"
   ]
  },
  {
   "cell_type": "code",
   "execution_count": 10,
   "metadata": {},
   "outputs": [
    {
     "name": "stdout",
     "output_type": "stream",
     "text": [
      "Original list [87, 52, 44, 53, 54, 87, 52, 53]\n",
      "unique list [44, 52, 53, 54, 87]\n",
      "tuple  (44, 52, 53, 54, 87)\n",
      "Minimum number is:  44\n",
      "Maximum number is:  87\n"
     ]
    }
   ],
   "source": [
    "sampleList = [87, 52, 44, 53, 54, 87, 52, 53]\n",
    "\n",
    "print(\"Original list\", sampleList)\n",
    "\n",
    "sampleList = list(set(sampleList))\n",
    "print(\"unique list\", sampleList)\n",
    "\n",
    "tuple = tuple(sampleList)\n",
    "print(\"tuple \", tuple)\n",
    "\n",
    "print(\"Minimum number is: \", min(tuple))\n",
    "print(\"Maximum number is: \", max(tuple))"
   ]
  }
 ],
 "metadata": {
  "kernelspec": {
   "display_name": "Python 3",
   "language": "python",
   "name": "python3"
  },
  "language_info": {
   "codemirror_mode": {
    "name": "ipython",
    "version": 3
   },
   "file_extension": ".py",
   "mimetype": "text/x-python",
   "name": "python",
   "nbconvert_exporter": "python",
   "pygments_lexer": "ipython3",
   "version": "3.7.3"
  }
 },
 "nbformat": 4,
 "nbformat_minor": 2
}
