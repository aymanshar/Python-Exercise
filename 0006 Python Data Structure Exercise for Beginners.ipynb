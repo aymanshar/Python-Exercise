{
 "cells": [
  {
   "cell_type": "markdown",
   "metadata": {},
   "source": [
    "### Python Data Structure Exercise for Beginners\n",
    "\n",
    "https://pynative.com/python-data-structure-exercise-for-beginners/\n",
    "\n",
    "This data structure exercise is for beginners to understand and practice basic data structure in Python. Practice Python List, Set, Dictionary, and Tuple questions.\n",
    "\n",
    "The data structure is widely used to hold any data. To perform any programming tasks in Python, good knowledge of data structure is a must."
   ]
  },
  {
   "cell_type": "markdown",
   "metadata": {},
   "source": [
    "### Exercise 1: \n",
    "Given two lists create a third list by picking an odd-index element from the first list and even index elements from the second.\n",
    "\n",
    "Given:\n",
    "\n",
    "- listOne = [3, 6, 9, 12, 15, 18, 21]\n",
    "- listTwo = [4, 8, 12, 16, 20, 24, 28]"
   ]
  },
  {
   "cell_type": "code",
   "execution_count": null,
   "metadata": {},
   "outputs": [],
   "source": []
  },
  {
   "cell_type": "markdown",
   "metadata": {},
   "source": [
    "### Exercise 2: \n",
    "Given a list, remove the element at index 4 and add it to the 2nd position and at the end of the list\n",
    "\n",
    "Given:\n",
    "\n",
    "list1 = [54, 44, 27, 79, 91, 41]\n"
   ]
  },
  {
   "cell_type": "code",
   "execution_count": null,
   "metadata": {},
   "outputs": [],
   "source": []
  },
  {
   "cell_type": "markdown",
   "metadata": {},
   "source": [
    "### Exercise 3: \n",
    "Given a list slice it into 3 equal chunks and reverse each chunk\n",
    "\n",
    "Given:\n",
    "\n",
    "sampleList = [11, 45, 8, 23, 14, 12, 78, 45, 89]"
   ]
  },
  {
   "cell_type": "code",
   "execution_count": null,
   "metadata": {},
   "outputs": [],
   "source": []
  },
  {
   "cell_type": "markdown",
   "metadata": {},
   "source": [
    "### Exercise 4: \n",
    "Iterate a given list and count the occurrence of each element and create a dictionary to show the count of each element"
   ]
  },
  {
   "cell_type": "code",
   "execution_count": null,
   "metadata": {},
   "outputs": [],
   "source": []
  },
  {
   "cell_type": "markdown",
   "metadata": {},
   "source": [
    "### Exercise 5: \n",
    "Given a two list of equal size create a Python set such that it shows the element from both lists in the pair"
   ]
  },
  {
   "cell_type": "code",
   "execution_count": null,
   "metadata": {},
   "outputs": [],
   "source": []
  },
  {
   "cell_type": "markdown",
   "metadata": {},
   "source": [
    "### Exercise 6: \n",
    "Given the following two sets find the intersection and remove those elements from the first set"
   ]
  },
  {
   "cell_type": "code",
   "execution_count": null,
   "metadata": {},
   "outputs": [],
   "source": []
  },
  {
   "cell_type": "markdown",
   "metadata": {},
   "source": [
    "### Exercise 7: \n",
    "Given two sets, Checks if One Set is a subset or superset of another Set. if the subset is found delete all elements from that set\n",
    "\n",
    "Given:\n",
    "\n",
    "- firstSet = {27, 43, 34}\n",
    "- secondSet = {34, 93, 22, 27, 43, 53, 48}"
   ]
  },
  {
   "cell_type": "code",
   "execution_count": null,
   "metadata": {},
   "outputs": [],
   "source": []
  },
  {
   "cell_type": "markdown",
   "metadata": {},
   "source": [
    "### Exercise 8: \n",
    "Iterate a given list and Check if a given element already exists in a dictionary as a key’s value if not delete it from the list\n",
    "Given:\n",
    "\n",
    "- rollNumber = [47, 64, 69, 37, 76, 83, 95, 97]\n",
    "- sampleDict ={'Jhon':47, 'Emma':69, 'Kelly':76, 'Jason':97}\n"
   ]
  },
  {
   "cell_type": "code",
   "execution_count": null,
   "metadata": {},
   "outputs": [],
   "source": []
  },
  {
   "cell_type": "markdown",
   "metadata": {},
   "source": [
    "### Exercise 9: \n",
    "Given a dictionary get all values from the dictionary and add them to a list but don’t add duplicates\n",
    "\n",
    "Given:\n",
    "\n",
    "speed ={'jan':47, 'feb':52, 'march':47, 'April':44, 'May':52, 'June':53, 'july':54, 'Aug':44, 'Sept':54}"
   ]
  },
  {
   "cell_type": "code",
   "execution_count": null,
   "metadata": {},
   "outputs": [],
   "source": []
  },
  {
   "cell_type": "markdown",
   "metadata": {},
   "source": [
    "### Exercise 10: \n",
    "Remove duplicate from a list and create a tuple and find the minimum and maximum number\n",
    "\n",
    "Given:\n",
    "\n",
    "sampleList = [87, 45, 41, 65, 94, 41, 99, 94]"
   ]
  },
  {
   "cell_type": "code",
   "execution_count": null,
   "metadata": {},
   "outputs": [],
   "source": []
  }
 ],
 "metadata": {
  "kernelspec": {
   "display_name": "Python 3",
   "language": "python",
   "name": "python3"
  },
  "language_info": {
   "codemirror_mode": {
    "name": "ipython",
    "version": 3
   },
   "file_extension": ".py",
   "mimetype": "text/x-python",
   "name": "python",
   "nbconvert_exporter": "python",
   "pygments_lexer": "ipython3",
   "version": "3.7.3"
  }
 },
 "nbformat": 4,
 "nbformat_minor": 2
}
