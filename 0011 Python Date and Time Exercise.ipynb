{
 "cells": [
  {
   "cell_type": "markdown",
   "metadata": {},
   "source": [
    "### Python Date and Time Exercise with Solutions\n",
    "\n",
    "https://pynative.com/python-date-and-time-exercise/\n",
    "\n",
    "https://docs.python.org/3/library/datetime.html#strftime-and-strptime-format-codes"
   ]
  },
  {
   "cell_type": "markdown",
   "metadata": {},
   "source": [
    "### Exercise 1: \n",
    "Print current date and time in Python"
   ]
  },
  {
   "cell_type": "code",
   "execution_count": null,
   "metadata": {},
   "outputs": [],
   "source": []
  },
  {
   "cell_type": "markdown",
   "metadata": {},
   "source": [
    "### Exercise 2: \n",
    "Convert string into a datetime object\n",
    "\n",
    "For example, You received the following date in string format. Please convert it into Python’s datetime object.\n",
    "\n",
    "Given:\n",
    "\n",
    "- date_string = \"Feb 25 2020 4:20PM\""
   ]
  },
  {
   "cell_type": "code",
   "execution_count": null,
   "metadata": {},
   "outputs": [],
   "source": []
  },
  {
   "cell_type": "markdown",
   "metadata": {},
   "source": [
    "### Exercise 3: \n",
    "Subtract a week (7 days)  from a given date in Python\n",
    "\n",
    "Given:\n",
    "- given_date = datetime(2020, 2, 25)"
   ]
  },
  {
   "cell_type": "code",
   "execution_count": null,
   "metadata": {},
   "outputs": [],
   "source": []
  },
  {
   "cell_type": "markdown",
   "metadata": {},
   "source": [
    "### Exercise 4: \n",
    "Print a date in a the following format:\n",
    "\n",
    "Day_name  Day_number  Month_name  Year\n",
    "\n",
    "Given:\n",
    "\n",
    "- given_date = datetime(2020, 2, 25)"
   ]
  },
  {
   "cell_type": "code",
   "execution_count": null,
   "metadata": {},
   "outputs": [],
   "source": []
  },
  {
   "cell_type": "markdown",
   "metadata": {},
   "source": [
    "### Exercise 5: \n",
    "Find the day of the week of a given date\n",
    "\n",
    "Given:\n",
    "\n",
    "- given_date = datetime(2020, 7, 26)"
   ]
  },
  {
   "cell_type": "code",
   "execution_count": null,
   "metadata": {},
   "outputs": [],
   "source": []
  },
  {
   "cell_type": "markdown",
   "metadata": {},
   "source": [
    "### Exercise 6: \n",
    "Add a week (7 days) and 12 hours to a given date\n",
    "\n",
    "Given:\n",
    "\n",
    "- 2020-03-22 10:00:00\n",
    "- given_date = datetime(2020, 3, 22, 10, 0, 0)"
   ]
  },
  {
   "cell_type": "code",
   "execution_count": null,
   "metadata": {},
   "outputs": [],
   "source": []
  },
  {
   "cell_type": "markdown",
   "metadata": {},
   "source": [
    "### Exercise 7: \n",
    "Print current time in milliseconds"
   ]
  },
  {
   "cell_type": "code",
   "execution_count": null,
   "metadata": {},
   "outputs": [],
   "source": []
  },
  {
   "cell_type": "markdown",
   "metadata": {},
   "source": [
    "### Exercise 8: \n",
    "Convert the following datetime into a string\n",
    "\n",
    "Given:\n",
    "\n",
    "- given_date = datetime(2020, 2, 25)"
   ]
  },
  {
   "cell_type": "code",
   "execution_count": null,
   "metadata": {},
   "outputs": [],
   "source": []
  },
  {
   "cell_type": "markdown",
   "metadata": {},
   "source": [
    "### Exercise 9: \n",
    "Calculate the date 4 months from the current date\n",
    "\n",
    "Given:\n",
    "\n",
    "- 2020-02-25\n",
    "- given_date = datetime(2020, 2, 25).date()\n",
    "\n",
    "Solution:\n",
    "\n",
    "- We need to use the Python dateutil module’s relativedelta. We can add 4 months into the given date using a relativedelta.\n",
    "- The relativedelta is useful when we want to deal months with day 29, 30 31, It will properly adjust the days."
   ]
  },
  {
   "cell_type": "code",
   "execution_count": null,
   "metadata": {},
   "outputs": [],
   "source": []
  },
  {
   "cell_type": "markdown",
   "metadata": {},
   "source": [
    "### Exercise 10: \n",
    "Calculate number of days between two given dates\n",
    "\n",
    "Given:\n",
    "\n",
    "#### 2020-02-25\n",
    "- date_1 = datetime(2020, 2, 25)\n",
    "\n",
    "#### 2020-09-17\n",
    "- date_2 = datetime(2020, 9, 17)"
   ]
  },
  {
   "cell_type": "code",
   "execution_count": null,
   "metadata": {},
   "outputs": [],
   "source": []
  }
 ],
 "metadata": {
  "kernelspec": {
   "display_name": "Python 3",
   "language": "python",
   "name": "python3"
  },
  "language_info": {
   "codemirror_mode": {
    "name": "ipython",
    "version": 3
   },
   "file_extension": ".py",
   "mimetype": "text/x-python",
   "name": "python",
   "nbconvert_exporter": "python",
   "pygments_lexer": "ipython3",
   "version": "3.7.3"
  }
 },
 "nbformat": 4,
 "nbformat_minor": 2
}
